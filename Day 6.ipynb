{
 "cells": [
  {
   "cell_type": "markdown",
   "id": "6324df82",
   "metadata": {},
   "source": [
    "### Few Important \n",
    "\n",
    "> ### 1. If-elif-Else Statements\n",
    "> ### 2. Functions\n",
    "> ### 3. Loops / Iterations"
   ]
  },
  {
   "cell_type": "markdown",
   "id": "03d9b806",
   "metadata": {},
   "source": [
    "### 1. If-elif-else statement"
   ]
  },
  {
   "cell_type": "markdown",
   "id": "69190d48",
   "metadata": {},
   "source": [
    "Q1 : Ask the user for a porosity input values, display outputs accordingly"
   ]
  },
  {
   "cell_type": "code",
   "execution_count": 5,
   "id": "98ef526b",
   "metadata": {},
   "outputs": [
    {
     "name": "stdout",
     "output_type": "stream",
     "text": [
      "Enter Poosity in % :16\n",
      "This is a Tight Sandstone.\n"
     ]
    }
   ],
   "source": [
    "poro = float(input('Enter Poosity in % :'))\n",
    "if poro >= 20: #condition 1\n",
    "    print('This is a Porous Sandstone.')\n",
    "elif (poro<25) & (poro>=15): #condition 2\n",
    "    print('This is a Tight Sandstone.')\n",
    "else: #last case scenario\n",
    "    print('Maybe is a Carbonatee.')"
   ]
  },
  {
   "cell_type": "markdown",
   "id": "ef7f215b",
   "metadata": {},
   "source": [
    "--------"
   ]
  },
  {
   "cell_type": "markdown",
   "id": "577e1eeb",
   "metadata": {},
   "source": [
    "# 2. Functions"
   ]
  },
  {
   "cell_type": "code",
   "execution_count": 10,
   "id": "3967e5d9",
   "metadata": {},
   "outputs": [
    {
     "name": "stdout",
     "output_type": "stream",
     "text": [
      "9\n"
     ]
    }
   ],
   "source": [
    "x = 2\n",
    "\n",
    "y = x**2 + 2*x + 1\n",
    "\n",
    "print(y)"
   ]
  },
  {
   "cell_type": "markdown",
   "id": "6184b69f",
   "metadata": {},
   "source": [
    "### function syntax :\n",
    "``` def funv_name(input1 ....):\n",
    "    <code chunk>"
   ]
  },
  {
   "cell_type": "code",
   "execution_count": 14,
   "id": "5948560b",
   "metadata": {},
   "outputs": [],
   "source": [
    "def y_quadratic(x):\n",
    "    \n",
    "   y = x**2 + 2*x + 1\n",
    "\n",
    "   return y"
   ]
  },
  {
   "cell_type": "code",
   "execution_count": 15,
   "id": "c34bda8c",
   "metadata": {},
   "outputs": [
    {
     "data": {
      "text/plain": [
       "121"
      ]
     },
     "execution_count": 15,
     "metadata": {},
     "output_type": "execute_result"
    }
   ],
   "source": [
    "y_quadratic(10)"
   ]
  },
  {
   "cell_type": "code",
   "execution_count": 16,
   "id": "4cd7431f",
   "metadata": {},
   "outputs": [
    {
     "data": {
      "text/plain": [
       "121"
      ]
     },
     "execution_count": 16,
     "metadata": {},
     "output_type": "execute_result"
    }
   ],
   "source": [
    "y = y_quadratic(10)\n",
    "y"
   ]
  },
  {
   "cell_type": "markdown",
   "id": "1c641ef5",
   "metadata": {},
   "source": [
    "### Darcy Function : multiple inputs single output\n",
    "\n",
    "q = kAdelP / mu*L"
   ]
  },
  {
   "cell_type": "code",
   "execution_count": 20,
   "id": "dfd76226",
   "metadata": {},
   "outputs": [],
   "source": [
    "def darcy_calculator(k, A, dP, mu, L):\n",
    "    q = k*A*dP/(mu*L)\n",
    "    return q"
   ]
  },
  {
   "cell_type": "code",
   "execution_count": 21,
   "id": "da12fd5f",
   "metadata": {},
   "outputs": [
    {
     "data": {
      "text/plain": [
       "3.2"
      ]
     },
     "execution_count": 21,
     "metadata": {},
     "output_type": "execute_result"
    }
   ],
   "source": [
    "darcy_calculator(0.8, 200, 2, 10, 10)"
   ]
  },
  {
   "cell_type": "code",
   "execution_count": 22,
   "id": "f2a7ea3d",
   "metadata": {},
   "outputs": [
    {
     "data": {
      "text/plain": [
       "0.13333333333333333"
      ]
     },
     "execution_count": 22,
     "metadata": {},
     "output_type": "execute_result"
    }
   ],
   "source": [
    "Q = darcy_calculator(0.8, 200, 2, 10, 10)\n",
    "Q_new = Q/24\n",
    "Q_new"
   ]
  },
  {
   "cell_type": "markdown",
   "id": "72f20d4c",
   "metadata": {},
   "source": [
    "*** Example : take the value of Q_init, b and return Q = Q_init*e(-bt)"
   ]
  },
  {
   "cell_type": "code",
   "execution_count": 26,
   "id": "bc740695",
   "metadata": {},
   "outputs": [],
   "source": [
    "import math\n",
    "def Q_decline(Q_init, b, t):\n",
    "    Q = Q_init*math.exp(-b*t)\n",
    "    return Q"
   ]
  },
  {
   "cell_type": "code",
   "execution_count": 27,
   "id": "226badad",
   "metadata": {},
   "outputs": [
    {
     "data": {
      "text/plain": [
       "5000.0"
      ]
     },
     "execution_count": 27,
     "metadata": {},
     "output_type": "execute_result"
    }
   ],
   "source": [
    "Q_decline(5000,0.05,0)"
   ]
  },
  {
   "cell_type": "markdown",
   "id": "6d203266",
   "metadata": {},
   "source": [
    "** seting default values of function input"
   ]
  },
  {
   "cell_type": "code",
   "execution_count": 28,
   "id": "8a1f5843",
   "metadata": {},
   "outputs": [],
   "source": [
    "import math\n",
    "def Q_decline_new(Q_init, t, b=0.05):\n",
    "    Q = Q_init*math.exp(-b*t)\n",
    "    return Q"
   ]
  },
  {
   "cell_type": "code",
   "execution_count": 29,
   "id": "c4072566",
   "metadata": {},
   "outputs": [
    {
     "data": {
      "text/plain": [
       "3032.653298563167"
      ]
     },
     "execution_count": 29,
     "metadata": {},
     "output_type": "execute_result"
    }
   ],
   "source": [
    "Q_decline_new(5000, 10)"
   ]
  },
  {
   "cell_type": "code",
   "execution_count": 34,
   "id": "114a357b",
   "metadata": {},
   "outputs": [],
   "source": [
    "def Q_decline_newer(Q_init=1000, t=10, b=0.05):\n",
    "    Q = Q_init*math.exp(-b*t)\n",
    "    return Q"
   ]
  },
  {
   "cell_type": "code",
   "execution_count": 35,
   "id": "1f0e0801",
   "metadata": {},
   "outputs": [
    {
     "data": {
      "text/plain": [
       "606.5306597126335"
      ]
     },
     "execution_count": 35,
     "metadata": {},
     "output_type": "execute_result"
    }
   ],
   "source": [
    "Q_decline_newer()"
   ]
  },
  {
   "cell_type": "markdown",
   "id": "7461e793",
   "metadata": {},
   "source": [
    "### Multi-imput and Multi-output functions"
   ]
  },
  {
   "cell_type": "markdown",
   "id": "c460facf",
   "metadata": {},
   "source": [
    "> ### Fractional Flow\n",
    "\n",
    "``` fw = 1/(1+(uw*kro)/(uo*krw))```"
   ]
  },
  {
   "cell_type": "code",
   "execution_count": 39,
   "id": "a374f37d",
   "metadata": {},
   "outputs": [],
   "source": [
    "def fracFlow_calculator(sw=0.5, mu_w=100, mu_o=100):\n",
    "    krw = sw**3\n",
    "    so = (1 - sw)\n",
    "    kro = so**3\n",
    "    \n",
    "    relperm_details = {'Sw':sw, 'Krw':krw, 'Kro':kro}\n",
    "    fw = 1 /(1+ (mu_w*kro / mu_o*krw))\n",
    "    \n",
    "    return relperm_details, fw"
   ]
  },
  {
   "cell_type": "code",
   "execution_count": 40,
   "id": "ba3b192c",
   "metadata": {},
   "outputs": [
    {
     "data": {
      "text/plain": [
       "({'Sw': 0.5, 'Krw': 0.125, 'Kro': 0.125}, 0.9846153846153847)"
      ]
     },
     "execution_count": 40,
     "metadata": {},
     "output_type": "execute_result"
    }
   ],
   "source": [
    "fracFlow_calculator()"
   ]
  },
  {
   "cell_type": "code",
   "execution_count": 41,
   "id": "ae18d4cf",
   "metadata": {},
   "outputs": [
    {
     "data": {
      "text/plain": [
       "<function __main__.fracFlow_calculator(sw=0.5, mu_w=100, mu_o=100)>"
      ]
     },
     "execution_count": 41,
     "metadata": {},
     "output_type": "execute_result"
    }
   ],
   "source": [
    "fracFlow_calculator"
   ]
  },
  {
   "cell_type": "code",
   "execution_count": 42,
   "id": "af04bd8b",
   "metadata": {},
   "outputs": [
    {
     "data": {
      "text/plain": [
       "({'Sw': 0.2, 'Krw': 0.008000000000000002, 'Kro': 0.5120000000000001},\n",
       " 0.9995905677034687)"
      ]
     },
     "execution_count": 42,
     "metadata": {},
     "output_type": "execute_result"
    }
   ],
   "source": [
    "fracFlow_calculator(sw=0.2, mu_w=10, mu_o=100)"
   ]
  },
  {
   "cell_type": "markdown",
   "id": "24c0a09f",
   "metadata": {},
   "source": [
    "storing em variables"
   ]
  },
  {
   "cell_type": "code",
   "execution_count": 43,
   "id": "9cd7aa32",
   "metadata": {},
   "outputs": [
    {
     "data": {
      "text/plain": [
       "({'Sw': 0.2, 'Krw': 0.008000000000000002, 'Kro': 0.5120000000000001},\n",
       " 0.9995905677034687)"
      ]
     },
     "execution_count": 43,
     "metadata": {},
     "output_type": "execute_result"
    }
   ],
   "source": [
    "fracFlow_calculator(sw=0.2, mu_w=10, mu_o=100)"
   ]
  },
  {
   "cell_type": "markdown",
   "id": "22a95d4e",
   "metadata": {},
   "source": [
    "### Loops and Iterations\n",
    "> ### for Loop"
   ]
  },
  {
   "cell_type": "code",
   "execution_count": 45,
   "id": "09d75876",
   "metadata": {},
   "outputs": [],
   "source": [
    "my_number_list = list(range(10,90))"
   ]
  },
  {
   "cell_type": "code",
   "execution_count": 48,
   "id": "ff44a111",
   "metadata": {},
   "outputs": [
    {
     "name": "stdout",
     "output_type": "stream",
     "text": [
      "100\n",
      "121\n",
      "144\n",
      "169\n",
      "196\n",
      "225\n",
      "256\n",
      "289\n",
      "324\n",
      "361\n",
      "400\n",
      "441\n",
      "484\n",
      "529\n",
      "576\n",
      "625\n",
      "676\n",
      "729\n",
      "784\n",
      "841\n",
      "900\n",
      "961\n",
      "1024\n",
      "1089\n",
      "1156\n",
      "1225\n",
      "1296\n",
      "1369\n",
      "1444\n",
      "1521\n",
      "1600\n",
      "1681\n",
      "1764\n",
      "1849\n",
      "1936\n",
      "2025\n",
      "2116\n",
      "2209\n",
      "2304\n",
      "2401\n",
      "2500\n",
      "2601\n",
      "2704\n",
      "2809\n",
      "2916\n",
      "3025\n",
      "3136\n",
      "3249\n",
      "3364\n",
      "3481\n",
      "3600\n",
      "3721\n",
      "3844\n",
      "3969\n",
      "4096\n",
      "4225\n",
      "4356\n",
      "4489\n",
      "4624\n",
      "4761\n",
      "4900\n",
      "5041\n",
      "5184\n",
      "5329\n",
      "5476\n",
      "5625\n",
      "5776\n",
      "5929\n",
      "6084\n",
      "6241\n",
      "6400\n",
      "6561\n",
      "6724\n",
      "6889\n",
      "7056\n",
      "7225\n",
      "7396\n",
      "7569\n",
      "7744\n",
      "7921\n"
     ]
    }
   ],
   "source": [
    "for each_num in my_number_list:\n",
    "    print(each_num**2)"
   ]
  },
  {
   "cell_type": "code",
   "execution_count": 51,
   "id": "9bae4c01",
   "metadata": {},
   "outputs": [
    {
     "name": "stdout",
     "output_type": "stream",
     "text": [
      "1000\t1331\t1728\t2197\t2744\t3375\t4096\t4913\t5832\t6859\t8000\t9261\t10648\t12167\t13824\t15625\t17576\t19683\t21952\t24389\t27000\t29791\t32768\t35937\t39304\t42875\t46656\t50653\t54872\t59319\t64000\t68921\t74088\t79507\t85184\t91125\t97336\t103823\t110592\t117649\t125000\t132651\t140608\t148877\t157464\t166375\t175616\t185193\t195112\t205379\t216000\t226981\t238328\t250047\t262144\t274625\t287496\t300763\t314432\t328509\t343000\t357911\t373248\t389017\t405224\t421875\t438976\t456533\t474552\t493039\t512000\t531441\t551368\t571787\t592704\t614125\t636056\t658503\t681472\t704969\t"
     ]
    }
   ],
   "source": [
    "for each_num in my_number_list:\n",
    "    print(each_num**3, end='\\t')"
   ]
  },
  {
   "cell_type": "code",
   "execution_count": 52,
   "id": "9ed455fc",
   "metadata": {},
   "outputs": [
    {
     "name": "stdout",
     "output_type": "stream",
     "text": [
      "1000_1331_1728_2197_2744_3375_4096_4913_5832_6859_8000_9261_10648_12167_13824_15625_17576_19683_21952_24389_27000_29791_32768_35937_39304_42875_46656_50653_54872_59319_64000_68921_74088_79507_85184_91125_97336_103823_110592_117649_125000_132651_140608_148877_157464_166375_175616_185193_195112_205379_216000_226981_238328_250047_262144_274625_287496_300763_314432_328509_343000_357911_373248_389017_405224_421875_438976_456533_474552_493039_512000_531441_551368_571787_592704_614125_636056_658503_681472_704969_"
     ]
    }
   ],
   "source": [
    "for each_num in my_number_list:\n",
    "    print(each_num**3, end='_')"
   ]
  },
  {
   "cell_type": "code",
   "execution_count": 53,
   "id": "ac68e54d",
   "metadata": {},
   "outputs": [
    {
     "name": "stdout",
     "output_type": "stream",
     "text": [
      "True\n",
      "False\n",
      "True\n",
      "False\n",
      "True\n",
      "False\n",
      "True\n",
      "False\n",
      "True\n",
      "False\n",
      "True\n",
      "False\n",
      "True\n",
      "False\n",
      "True\n",
      "False\n",
      "True\n",
      "False\n",
      "True\n",
      "False\n",
      "True\n",
      "False\n",
      "True\n",
      "False\n",
      "True\n",
      "False\n",
      "True\n",
      "False\n",
      "True\n",
      "False\n",
      "True\n",
      "False\n",
      "True\n",
      "False\n",
      "True\n",
      "False\n",
      "True\n",
      "False\n",
      "True\n",
      "False\n",
      "True\n",
      "False\n",
      "True\n",
      "False\n",
      "True\n",
      "False\n",
      "True\n",
      "False\n",
      "True\n",
      "False\n",
      "True\n",
      "False\n",
      "True\n",
      "False\n",
      "True\n",
      "False\n",
      "True\n",
      "False\n",
      "True\n",
      "False\n",
      "True\n",
      "False\n",
      "True\n",
      "False\n",
      "True\n",
      "False\n",
      "True\n",
      "False\n",
      "True\n",
      "False\n",
      "True\n",
      "False\n",
      "True\n",
      "False\n",
      "True\n",
      "False\n",
      "True\n",
      "False\n",
      "True\n",
      "False\n"
     ]
    }
   ],
   "source": [
    "for j in my_number_list:\n",
    "    if j%2 == 0:\n",
    "        print(True)\n",
    "    else:\n",
    "        print(False)"
   ]
  },
  {
   "cell_type": "code",
   "execution_count": 56,
   "id": "caf3360e",
   "metadata": {},
   "outputs": [],
   "source": [
    "my_sin = []\n",
    "my_cos = []\n",
    "\n",
    "for v in my_number_list:\n",
    "    sin_v = math.sin(v)\n",
    "    cos_v = math.cos(v)\n",
    "\n",
    "    my_sin.append(sin_v)\n",
    "    my_cos.append(sin_v)"
   ]
  },
  {
   "cell_type": "code",
   "execution_count": 57,
   "id": "8f010c4b",
   "metadata": {},
   "outputs": [
    {
     "data": {
      "text/plain": [
       "80"
      ]
     },
     "execution_count": 57,
     "metadata": {},
     "output_type": "execute_result"
    }
   ],
   "source": [
    "len(my_number_list)"
   ]
  },
  {
   "cell_type": "code",
   "execution_count": 58,
   "id": "b9c045e6",
   "metadata": {},
   "outputs": [
    {
     "data": {
      "text/plain": [
       "(80, 80)"
      ]
     },
     "execution_count": 58,
     "metadata": {},
     "output_type": "execute_result"
    }
   ],
   "source": [
    "len(my_sin) , len(my_cos)"
   ]
  },
  {
   "cell_type": "code",
   "execution_count": 59,
   "id": "397d7f4b",
   "metadata": {},
   "outputs": [
    {
     "data": {
      "text/plain": [
       "[-0.5440211108893698,\n",
       " -0.9999902065507035,\n",
       " -0.5365729180004349,\n",
       " 0.4201670368266409,\n",
       " 0.9906073556948704,\n",
       " 0.6502878401571168,\n",
       " -0.2879033166650653,\n",
       " -0.9613974918795568,\n",
       " -0.7509872467716762,\n",
       " 0.14987720966295234,\n",
       " 0.9129452507276277,\n",
       " 0.8366556385360561,\n",
       " -0.008851309290403876,\n",
       " -0.8462204041751706,\n",
       " -0.9055783620066238,\n",
       " -0.13235175009777303,\n",
       " 0.7625584504796027,\n",
       " 0.956375928404503,\n",
       " 0.27090578830786904,\n",
       " -0.6636338842129675,\n",
       " -0.9880316240928618,\n",
       " -0.404037645323065,\n",
       " 0.5514266812416906,\n",
       " 0.9999118601072672,\n",
       " 0.5290826861200238,\n",
       " -0.428182669496151,\n",
       " -0.9917788534431158,\n",
       " -0.6435381333569995,\n",
       " 0.2963685787093853,\n",
       " 0.9637953862840878,\n",
       " 0.7451131604793488,\n",
       " -0.158622668804709,\n",
       " -0.9165215479156338,\n",
       " -0.8317747426285983,\n",
       " 0.017701925105413577,\n",
       " 0.8509035245341184,\n",
       " 0.9017883476488092,\n",
       " 0.123573122745224,\n",
       " -0.7682546613236668,\n",
       " -0.9537526527594719,\n",
       " -0.26237485370392877,\n",
       " 0.6702291758433747,\n",
       " 0.9866275920404853,\n",
       " 0.39592515018183416,\n",
       " -0.5587890488516163,\n",
       " -0.9997551733586199,\n",
       " -0.5215510020869119,\n",
       " 0.43616475524782494,\n",
       " 0.9928726480845371,\n",
       " 0.6367380071391379,\n",
       " -0.3048106211022167,\n",
       " -0.9661177700083929,\n",
       " -0.7391806966492228,\n",
       " 0.16735570030280691,\n",
       " 0.9200260381967907,\n",
       " 0.8268286794901034,\n",
       " -0.026551154023966794,\n",
       " -0.8555199789753223,\n",
       " -0.8979276806892913,\n",
       " -0.11478481378318722,\n",
       " 0.7738906815578891,\n",
       " 0.9510546532543747,\n",
       " 0.25382336276203626,\n",
       " -0.6767719568873076,\n",
       " -0.9851462604682474,\n",
       " -0.38778163540943045,\n",
       " 0.5661076368981803,\n",
       " 0.9995201585807313,\n",
       " 0.5139784559875352,\n",
       " -0.4441126687075084,\n",
       " -0.9938886539233752,\n",
       " -0.6298879942744539,\n",
       " 0.31322878243308516,\n",
       " 0.9683644611001854,\n",
       " 0.7331903200732922,\n",
       " -0.1760756199485871,\n",
       " -0.9234584470040598,\n",
       " -0.8218178366308225,\n",
       " 0.03539830273366068,\n",
       " 0.8600694058124532]"
      ]
     },
     "execution_count": 59,
     "metadata": {},
     "output_type": "execute_result"
    }
   ],
   "source": [
    "my_sin"
   ]
  },
  {
   "cell_type": "code",
   "execution_count": null,
   "id": "735f9e00",
   "metadata": {},
   "outputs": [],
   "source": []
  }
 ],
 "metadata": {
  "kernelspec": {
   "display_name": "Python 3 (ipykernel)",
   "language": "python",
   "name": "python3"
  },
  "language_info": {
   "codemirror_mode": {
    "name": "ipython",
    "version": 3
   },
   "file_extension": ".py",
   "mimetype": "text/x-python",
   "name": "python",
   "nbconvert_exporter": "python",
   "pygments_lexer": "ipython3",
   "version": "3.9.12"
  }
 },
 "nbformat": 4,
 "nbformat_minor": 5
}
