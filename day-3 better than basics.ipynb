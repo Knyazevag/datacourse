{
 "cells": [
  {
   "cell_type": "markdown",
   "id": "e5143921",
   "metadata": {},
   "source": [
    "### Agends\n",
    "\n",
    "1. Data Structures\n",
    "\n",
    "- Lists\n",
    "- Strings (more details)\n",
    "- Tuples\n",
    "- Set\n",
    "- Dictionary\n",
    "\n",
    "2. IF ELSE Statements - \"Flow of Control\"\n",
    "3. Raising Exceptions - try and except\n"
   ]
  },
  {
   "cell_type": "code",
   "execution_count": 1,
   "id": "59d64e52",
   "metadata": {},
   "outputs": [
    {
     "ename": "SyntaxError",
     "evalue": "invalid syntax (852555622.py, line 3)",
     "output_type": "error",
     "traceback": [
      "\u001b[1;36m  Input \u001b[1;32mIn [1]\u001b[1;36m\u001b[0m\n\u001b[1;33m    enclosed in square brackets\u001b[0m\n\u001b[1;37m                       ^\u001b[0m\n\u001b[1;31mSyntaxError\u001b[0m\u001b[1;31m:\u001b[0m invalid syntax\n"
     ]
    }
   ],
   "source": [
    "# List : [a , b, 100, 200, 0.5]\n",
    "\n",
    "enclosed in square brackets"
   ]
  },
  {
   "cell_type": "code",
   "execution_count": 2,
   "id": "381adc50",
   "metadata": {},
   "outputs": [
    {
     "data": {
      "text/plain": [
       "[1, 2, 3]"
      ]
     },
     "execution_count": 2,
     "metadata": {},
     "output_type": "execute_result"
    }
   ],
   "source": [
    "#Approach l ^ use the keyword list\n",
    "list([1, 2, 3])"
   ]
  },
  {
   "cell_type": "code",
   "execution_count": 3,
   "id": "f1246b17",
   "metadata": {},
   "outputs": [
    {
     "data": {
      "text/plain": [
       "range(1, 100)"
      ]
     },
     "execution_count": 3,
     "metadata": {},
     "output_type": "execute_result"
    }
   ],
   "source": [
    "range(1,100\n",
    "    )"
   ]
  },
  {
   "cell_type": "code",
   "execution_count": 4,
   "id": "af8ee87c",
   "metadata": {},
   "outputs": [
    {
     "name": "stdout",
     "output_type": "stream",
     "text": [
      "[1, 2, 3, 4, 5, 6, 7, 8, 9, 10, 11, 12, 13, 14, 15, 16, 17, 18, 19, 20, 21, 22, 23, 24, 25, 26, 27, 28, 29, 30, 31, 32, 33, 34, 35, 36, 37, 38, 39, 40, 41, 42, 43, 44, 45, 46, 47, 48, 49, 50, 51, 52, 53, 54, 55, 56, 57, 58, 59, 60, 61, 62, 63, 64, 65, 66, 67, 68, 69, 70, 71, 72, 73, 74, 75, 76, 77, 78, 79, 80, 81, 82, 83, 84, 85, 86, 87, 88, 89, 90, 91, 92, 93, 94, 95, 96, 97, 98, 99, 100]\n"
     ]
    }
   ],
   "source": [
    "print(list(range(1,100+1)))"
   ]
  },
  {
   "cell_type": "code",
   "execution_count": 5,
   "id": "ef05c877",
   "metadata": {},
   "outputs": [
    {
     "data": {
      "text/plain": [
       "[5, 6, 7, 8, 9, 10, 11]"
      ]
     },
     "execution_count": 5,
     "metadata": {},
     "output_type": "execute_result"
    }
   ],
   "source": [
    "list(range(5, 12))"
   ]
  },
  {
   "cell_type": "code",
   "execution_count": 15,
   "id": "594d9d1e",
   "metadata": {},
   "outputs": [
    {
     "name": "stdout",
     "output_type": "stream",
     "text": [
      "[50, 51, 52, 53, 54, 55, 56, 57, 58, 59, 60, 61, 62, 63, 64, 65, 66, 67, 68, 69, 70, 71, 72, 73, 74, 75, 76, 77, 78, 79, 80, 81, 82, 83, 84, 85, 86, 87, 88, 89, 90, 91, 92, 93, 94, 95, 96, 97, 98, 99]\n"
     ]
    }
   ],
   "source": [
    "print(list(range(50, 100)))"
   ]
  },
  {
   "cell_type": "markdown",
   "id": "88abc8f7",
   "metadata": {},
   "source": [
    "assigning a list to avariable"
   ]
  },
  {
   "cell_type": "code",
   "execution_count": 7,
   "id": "00089524",
   "metadata": {},
   "outputs": [],
   "source": [
    "sst1_porosities = [0.23, 0.22, 0.25, 0.29]\n",
    "sst1_perms = [110, 105, 170, 230]"
   ]
  },
  {
   "cell_type": "markdown",
   "id": "2a0aeee3",
   "metadata": {},
   "source": [
    "checking lengh of the list"
   ]
  },
  {
   "cell_type": "code",
   "execution_count": 8,
   "id": "fe4a77eb",
   "metadata": {},
   "outputs": [
    {
     "data": {
      "text/plain": [
       "4"
      ]
     },
     "execution_count": 8,
     "metadata": {},
     "output_type": "execute_result"
    }
   ],
   "source": [
    "len (sst1_porosities)"
   ]
  },
  {
   "cell_type": "code",
   "execution_count": 13,
   "id": "68f40a39",
   "metadata": {},
   "outputs": [
    {
     "data": {
      "text/plain": [
       "True"
      ]
     },
     "execution_count": 13,
     "metadata": {},
     "output_type": "execute_result"
    }
   ],
   "source": [
    "len (sst1_porosities) == len (sst1_perms)"
   ]
  },
  {
   "cell_type": "code",
   "execution_count": 14,
   "id": "65f44e3a",
   "metadata": {},
   "outputs": [
    {
     "data": {
      "text/plain": [
       "(4, 4)"
      ]
     },
     "execution_count": 14,
     "metadata": {},
     "output_type": "execute_result"
    }
   ],
   "source": [
    "len (sst1_porosities),len (sst1_perms)"
   ]
  },
  {
   "cell_type": "markdown",
   "id": "50967eb9",
   "metadata": {},
   "source": [
    "# a list is an ORDERED arrengement of numbers\n",
    "\n",
    "> roll number ~ index\n",
    "\n",
    "> in Python index begins at 0"
   ]
  },
  {
   "cell_type": "code",
   "execution_count": 16,
   "id": "27d5719b",
   "metadata": {},
   "outputs": [],
   "source": [
    "roll_no = 0"
   ]
  },
  {
   "cell_type": "code",
   "execution_count": 17,
   "id": "0aed211b",
   "metadata": {},
   "outputs": [
    {
     "data": {
      "text/plain": [
       "0.23"
      ]
     },
     "execution_count": 17,
     "metadata": {},
     "output_type": "execute_result"
    }
   ],
   "source": [
    "sst1_porosities[roll_no]"
   ]
  },
  {
   "cell_type": "code",
   "execution_count": 19,
   "id": "19de7fbb",
   "metadata": {},
   "outputs": [],
   "source": [
    "list1 = list(range(1, 101))"
   ]
  },
  {
   "cell_type": "code",
   "execution_count": 21,
   "id": "d2f01d54",
   "metadata": {},
   "outputs": [
    {
     "data": {
      "text/plain": [
       "98"
      ]
     },
     "execution_count": 21,
     "metadata": {},
     "output_type": "execute_result"
    }
   ],
   "source": [
    "position = 98\n",
    "index_no = position - 1\n",
    "list1[index_no]"
   ]
  },
  {
   "cell_type": "code",
   "execution_count": 26,
   "id": "acc24acb",
   "metadata": {},
   "outputs": [
    {
     "data": {
      "text/plain": [
       "151"
      ]
     },
     "execution_count": 26,
     "metadata": {},
     "output_type": "execute_result"
    }
   ],
   "source": [
    "list2 = list(range(101,201))\n",
    "\n",
    "index_no = 50\n",
    "position_no = 50 + 1\n",
    "\n",
    "list2[index_no]\n"
   ]
  },
  {
   "cell_type": "markdown",
   "id": "07292af3",
   "metadata": {},
   "source": [
    "### slicing and indexing a list\n",
    "### Accessing values from a string\n",
    "\n",
    "```mylist[start_index : stop_index : step"
   ]
  },
  {
   "cell_type": "code",
   "execution_count": 27,
   "id": "cb9718cc",
   "metadata": {},
   "outputs": [
    {
     "name": "stdout",
     "output_type": "stream",
     "text": [
      "[101, 102, 103, 104, 105, 106, 107, 108, 109, 110, 111, 112, 113, 114, 115, 116, 117, 118, 119, 120, 121, 122, 123, 124, 125, 126, 127, 128, 129, 130, 131, 132, 133, 134, 135, 136, 137, 138, 139, 140, 141, 142, 143, 144, 145, 146, 147, 148, 149, 150, 151, 152, 153, 154, 155, 156, 157, 158, 159, 160, 161, 162, 163, 164, 165, 166, 167, 168, 169, 170, 171, 172, 173, 174, 175, 176, 177, 178, 179, 180, 181, 182, 183, 184, 185, 186, 187, 188, 189, 190, 191, 192, 193, 194, 195, 196, 197, 198, 199, 200]\n"
     ]
    }
   ],
   "source": [
    "print(list2)"
   ]
  },
  {
   "cell_type": "code",
   "execution_count": 32,
   "id": "878014e0",
   "metadata": {},
   "outputs": [
    {
     "name": "stdout",
     "output_type": "stream",
     "text": [
      "[152, 153, 154, 155, 156, 157, 158, 159, 160, 161, 162, 163, 164, 165, 166, 167, 168, 169, 170, 171, 172]\n"
     ]
    }
   ],
   "source": [
    "st_idx = 51\n",
    "end_idx = 71\n",
    "\n",
    "print(list2[st_idx : end_idx +1 :])"
   ]
  },
  {
   "cell_type": "code",
   "execution_count": 30,
   "id": "406ba081",
   "metadata": {},
   "outputs": [
    {
     "name": "stdout",
     "output_type": "stream",
     "text": [
      "152\n"
     ]
    }
   ],
   "source": [
    "print(list2[51])"
   ]
  },
  {
   "cell_type": "code",
   "execution_count": 31,
   "id": "0c5edc6c",
   "metadata": {},
   "outputs": [
    {
     "name": "stdout",
     "output_type": "stream",
     "text": [
      "172\n"
     ]
    }
   ],
   "source": [
    "print(list2[71])"
   ]
  },
  {
   "cell_type": "code",
   "execution_count": 33,
   "id": "3862c7c5",
   "metadata": {},
   "outputs": [],
   "source": [
    "list3 = list(range(1, 11))"
   ]
  },
  {
   "cell_type": "code",
   "execution_count": 34,
   "id": "0b5bae80",
   "metadata": {},
   "outputs": [
    {
     "data": {
      "text/plain": [
       "[1, 2, 3, 4, 5, 6, 7, 8, 9, 10]"
      ]
     },
     "execution_count": 34,
     "metadata": {},
     "output_type": "execute_result"
    }
   ],
   "source": [
    "list3"
   ]
  },
  {
   "cell_type": "code",
   "execution_count": 38,
   "id": "8bf6a236",
   "metadata": {},
   "outputs": [
    {
     "name": "stdout",
     "output_type": "stream",
     "text": [
      "[5, 6, 7, 8, 9, 10]\n"
     ]
    }
   ],
   "source": [
    "st_idx = 4\n",
    "stop_idx = 9\n",
    "\n",
    "print(list3[st_idx : stop_idx +1 :])"
   ]
  },
  {
   "cell_type": "code",
   "execution_count": 39,
   "id": "a7ba83fa",
   "metadata": {},
   "outputs": [
    {
     "data": {
      "text/plain": [
       "[1, 2, 3, 4, 5, 6, 7, 8, 9, 10]"
      ]
     },
     "execution_count": 39,
     "metadata": {},
     "output_type": "execute_result"
    }
   ],
   "source": [
    "list3"
   ]
  },
  {
   "cell_type": "code",
   "execution_count": 43,
   "id": "3e2d9ad2",
   "metadata": {},
   "outputs": [
    {
     "data": {
      "text/plain": [
       "[1, 2, 3, 4, 5, 6, 7, 8, 9, 10]"
      ]
     },
     "execution_count": 43,
     "metadata": {},
     "output_type": "execute_result"
    }
   ],
   "source": [
    "list3[0 : 10+1 : 1]"
   ]
  },
  {
   "cell_type": "code",
   "execution_count": 41,
   "id": "213e3b09",
   "metadata": {},
   "outputs": [
    {
     "data": {
      "text/plain": [
       "[1, 3, 5, 7, 9]"
      ]
     },
     "execution_count": 41,
     "metadata": {},
     "output_type": "execute_result"
    }
   ],
   "source": [
    "list3[0 : 10+1 : 2]"
   ]
  },
  {
   "cell_type": "code",
   "execution_count": 45,
   "id": "55421c83",
   "metadata": {},
   "outputs": [],
   "source": [
    "list4 = list(range(1, 21))"
   ]
  },
  {
   "cell_type": "code",
   "execution_count": 46,
   "id": "a5eea61b",
   "metadata": {},
   "outputs": [
    {
     "data": {
      "text/plain": [
       "[1, 2, 3, 4, 5, 6, 7, 8, 9, 10, 11, 12, 13, 14, 15, 16, 17, 18, 19, 20]"
      ]
     },
     "execution_count": 46,
     "metadata": {},
     "output_type": "execute_result"
    }
   ],
   "source": [
    "list4"
   ]
  },
  {
   "cell_type": "markdown",
   "id": "67f8944e",
   "metadata": {},
   "source": [
    "in list4 start at the first element and include the entire list : pick 1drop 2"
   ]
  },
  {
   "cell_type": "code",
   "execution_count": 49,
   "id": "867e158e",
   "metadata": {},
   "outputs": [
    {
     "data": {
      "text/plain": [
       "[1, 4, 7, 10, 13, 16, 19]"
      ]
     },
     "execution_count": 49,
     "metadata": {},
     "output_type": "execute_result"
    }
   ],
   "source": [
    "list4[0:21+1:3]"
   ]
  },
  {
   "cell_type": "markdown",
   "id": "8b02fc70",
   "metadata": {},
   "source": [
    "### REVERSED ORDER"
   ]
  },
  {
   "cell_type": "code",
   "execution_count": 50,
   "id": "489fdea3",
   "metadata": {},
   "outputs": [
    {
     "name": "stdout",
     "output_type": "stream",
     "text": [
      "[101, 102, 103, 104, 105, 106, 107, 108, 109, 110, 111, 112, 113, 114, 115, 116, 117, 118, 119, 120, 121, 122, 123, 124, 125, 126, 127, 128, 129, 130, 131, 132, 133, 134, 135, 136, 137, 138, 139, 140, 141, 142, 143, 144, 145, 146, 147, 148, 149, 150, 151, 152, 153, 154, 155, 156, 157, 158, 159, 160, 161, 162, 163, 164, 165, 166, 167, 168, 169, 170, 171, 172, 173, 174, 175, 176, 177, 178, 179, 180, 181, 182, 183, 184, 185, 186, 187, 188, 189, 190, 191, 192, 193, 194, 195, 196, 197, 198, 199, 200]\n"
     ]
    }
   ],
   "source": [
    "print(list2)"
   ]
  },
  {
   "cell_type": "code",
   "execution_count": 51,
   "id": "a9de48ab",
   "metadata": {},
   "outputs": [
    {
     "name": "stdout",
     "output_type": "stream",
     "text": [
      "[200, 199, 198, 197, 196, 195, 194, 193, 192, 191, 190, 189, 188, 187, 186, 185, 184, 183, 182, 181, 180, 179, 178, 177, 176, 175, 174, 173, 172, 171, 170, 169, 168, 167, 166, 165, 164, 163, 162, 161, 160, 159, 158, 157, 156, 155, 154, 153, 152, 151, 150, 149, 148, 147, 146, 145, 144, 143, 142, 141, 140, 139, 138, 137, 136, 135, 134, 133, 132, 131, 130, 129, 128, 127, 126, 125, 124, 123, 122, 121, 120, 119, 118, 117, 116, 115, 114, 113, 112, 111, 110, 109, 108, 107, 106, 105, 104, 103, 102, 101]\n"
     ]
    }
   ],
   "source": [
    "print(list2[-1 : : -1])"
   ]
  },
  {
   "cell_type": "code",
   "execution_count": 52,
   "id": "cc218fef",
   "metadata": {},
   "outputs": [],
   "source": [
    "list5 = [20, 30, 30, 20]"
   ]
  },
  {
   "cell_type": "code",
   "execution_count": 55,
   "id": "a3bfd2d0",
   "metadata": {},
   "outputs": [
    {
     "name": "stdout",
     "output_type": "stream",
     "text": [
      "[20, 30, 30, 20]\n"
     ]
    }
   ],
   "source": [
    "print(list5[-1 : : -1])"
   ]
  },
  {
   "cell_type": "code",
   "execution_count": 57,
   "id": "b9f4a722",
   "metadata": {},
   "outputs": [],
   "source": [
    "list5_reversed = list5[-1 : : -1]"
   ]
  },
  {
   "cell_type": "code",
   "execution_count": 58,
   "id": "3d5a0e08",
   "metadata": {},
   "outputs": [
    {
     "data": {
      "text/plain": [
       "True"
      ]
     },
     "execution_count": 58,
     "metadata": {},
     "output_type": "execute_result"
    }
   ],
   "source": [
    "list5_reversed == list5"
   ]
  },
  {
   "cell_type": "markdown",
   "id": "948a3b05",
   "metadata": {},
   "source": [
    "add more samples"
   ]
  },
  {
   "cell_type": "code",
   "execution_count": 59,
   "id": "9fc42de0",
   "metadata": {},
   "outputs": [
    {
     "data": {
      "text/plain": [
       "[0.23, 0.22, 0.25, 0.29]"
      ]
     },
     "execution_count": 59,
     "metadata": {},
     "output_type": "execute_result"
    }
   ],
   "source": [
    "sst1_porosities"
   ]
  },
  {
   "cell_type": "code",
   "execution_count": 60,
   "id": "f3de2b0c",
   "metadata": {},
   "outputs": [],
   "source": [
    "sst1_porosities.append(0.26)"
   ]
  },
  {
   "cell_type": "code",
   "execution_count": 61,
   "id": "b548e137",
   "metadata": {},
   "outputs": [
    {
     "data": {
      "text/plain": [
       "[0.23, 0.22, 0.25, 0.29, 0.26]"
      ]
     },
     "execution_count": 61,
     "metadata": {},
     "output_type": "execute_result"
    }
   ],
   "source": [
    "sst1_porosities"
   ]
  },
  {
   "cell_type": "code",
   "execution_count": 62,
   "id": "89995f00",
   "metadata": {},
   "outputs": [
    {
     "data": {
      "text/plain": [
       "[110, 105, 170, 230]"
      ]
     },
     "execution_count": 62,
     "metadata": {},
     "output_type": "execute_result"
    }
   ],
   "source": [
    "sst1_perms"
   ]
  },
  {
   "cell_type": "code",
   "execution_count": 63,
   "id": "d1a11031",
   "metadata": {},
   "outputs": [],
   "source": [
    "sst1_perms.append(135)"
   ]
  },
  {
   "cell_type": "code",
   "execution_count": 64,
   "id": "f9bf53a2",
   "metadata": {},
   "outputs": [
    {
     "data": {
      "text/plain": [
       "[110, 105, 170, 230, 135]"
      ]
     },
     "execution_count": 64,
     "metadata": {},
     "output_type": "execute_result"
    }
   ],
   "source": [
    "sst1_perms"
   ]
  },
  {
   "cell_type": "code",
   "execution_count": 65,
   "id": "3a4e4d86",
   "metadata": {},
   "outputs": [
    {
     "data": {
      "text/plain": [
       "True"
      ]
     },
     "execution_count": 65,
     "metadata": {},
     "output_type": "execute_result"
    }
   ],
   "source": [
    "len(sst1_perms) == len(sst1_porosities)"
   ]
  },
  {
   "cell_type": "markdown",
   "id": "915818e8",
   "metadata": {},
   "source": [
    "move out sample"
   ]
  },
  {
   "cell_type": "code",
   "execution_count": 66,
   "id": "dd1e9aec",
   "metadata": {},
   "outputs": [
    {
     "data": {
      "text/plain": [
       "0.26"
      ]
     },
     "execution_count": 66,
     "metadata": {},
     "output_type": "execute_result"
    }
   ],
   "source": [
    "sst1_porosities.pop()"
   ]
  },
  {
   "cell_type": "code",
   "execution_count": 67,
   "id": "3b8d3a8f",
   "metadata": {},
   "outputs": [
    {
     "data": {
      "text/plain": [
       "[0.23, 0.22, 0.25, 0.29]"
      ]
     },
     "execution_count": 67,
     "metadata": {},
     "output_type": "execute_result"
    }
   ],
   "source": [
    "sst1_porosities"
   ]
  },
  {
   "cell_type": "code",
   "execution_count": 68,
   "id": "7d5c0a03",
   "metadata": {},
   "outputs": [
    {
     "data": {
      "text/plain": [
       "135"
      ]
     },
     "execution_count": 68,
     "metadata": {},
     "output_type": "execute_result"
    }
   ],
   "source": [
    "sst1_perms.pop()"
   ]
  },
  {
   "cell_type": "code",
   "execution_count": 69,
   "id": "265476bd",
   "metadata": {},
   "outputs": [
    {
     "data": {
      "text/plain": [
       "[110, 105, 170, 230]"
      ]
     },
     "execution_count": 69,
     "metadata": {},
     "output_type": "execute_result"
    }
   ],
   "source": [
    "sst1_perms"
   ]
  },
  {
   "cell_type": "code",
   "execution_count": 70,
   "id": "498f91e3",
   "metadata": {},
   "outputs": [],
   "source": [
    "sst1_perms.append(145)"
   ]
  },
  {
   "cell_type": "code",
   "execution_count": 71,
   "id": "680aa0fb",
   "metadata": {},
   "outputs": [
    {
     "data": {
      "text/plain": [
       "[110, 105, 170, 230, 145]"
      ]
     },
     "execution_count": 71,
     "metadata": {},
     "output_type": "execute_result"
    }
   ],
   "source": [
    "sst1_perms"
   ]
  },
  {
   "cell_type": "code",
   "execution_count": 72,
   "id": "8965171f",
   "metadata": {},
   "outputs": [
    {
     "data": {
      "text/plain": [
       "145"
      ]
     },
     "execution_count": 72,
     "metadata": {},
     "output_type": "execute_result"
    }
   ],
   "source": [
    "sst1_perms.pop()"
   ]
  },
  {
   "cell_type": "code",
   "execution_count": 73,
   "id": "a844cfcb",
   "metadata": {},
   "outputs": [
    {
     "data": {
      "text/plain": [
       "[110, 105, 170, 230]"
      ]
     },
     "execution_count": 73,
     "metadata": {},
     "output_type": "execute_result"
    }
   ],
   "source": [
    "sst1_perms"
   ]
  },
  {
   "cell_type": "code",
   "execution_count": 74,
   "id": "d942b1bc",
   "metadata": {},
   "outputs": [
    {
     "data": {
      "text/plain": [
       "[0.23, 0.22, 0.25, 0.29]"
      ]
     },
     "execution_count": 74,
     "metadata": {},
     "output_type": "execute_result"
    }
   ],
   "source": [
    "sst1_porosities"
   ]
  },
  {
   "cell_type": "code",
   "execution_count": 75,
   "id": "a47df207",
   "metadata": {},
   "outputs": [],
   "source": [
    "sst1_porosities.append(0.27)"
   ]
  },
  {
   "cell_type": "code",
   "execution_count": 76,
   "id": "e5c85d7f",
   "metadata": {},
   "outputs": [
    {
     "data": {
      "text/plain": [
       "[0.23, 0.22, 0.25, 0.29, 0.27]"
      ]
     },
     "execution_count": 76,
     "metadata": {},
     "output_type": "execute_result"
    }
   ],
   "source": [
    "sst1_porosities"
   ]
  },
  {
   "cell_type": "code",
   "execution_count": 77,
   "id": "dfe19acb",
   "metadata": {},
   "outputs": [
    {
     "data": {
      "text/plain": [
       "0.27"
      ]
     },
     "execution_count": 77,
     "metadata": {},
     "output_type": "execute_result"
    }
   ],
   "source": [
    "sst1_porosities.pop()"
   ]
  },
  {
   "cell_type": "code",
   "execution_count": 78,
   "id": "284202bd",
   "metadata": {},
   "outputs": [
    {
     "data": {
      "text/plain": [
       "[0.23, 0.22, 0.25, 0.29]"
      ]
     },
     "execution_count": 78,
     "metadata": {},
     "output_type": "execute_result"
    }
   ],
   "source": [
    "sst1_porosities"
   ]
  },
  {
   "cell_type": "code",
   "execution_count": 79,
   "id": "060c3901",
   "metadata": {},
   "outputs": [
    {
     "data": {
      "text/plain": [
       "[0.23, 0.22, 0.25, 0.29, 0.27]"
      ]
     },
     "execution_count": 79,
     "metadata": {},
     "output_type": "execute_result"
    }
   ],
   "source": [
    "sst1_porosities +[0.27]"
   ]
  },
  {
   "cell_type": "code",
   "execution_count": 80,
   "id": "38500544",
   "metadata": {},
   "outputs": [
    {
     "data": {
      "text/plain": [
       "0.29"
      ]
     },
     "execution_count": 80,
     "metadata": {},
     "output_type": "execute_result"
    }
   ],
   "source": [
    "sst1_porosities.pop()"
   ]
  },
  {
   "cell_type": "code",
   "execution_count": 81,
   "id": "349a7d88",
   "metadata": {},
   "outputs": [
    {
     "data": {
      "text/plain": [
       "[0.23, 0.22, 0.25]"
      ]
     },
     "execution_count": 81,
     "metadata": {},
     "output_type": "execute_result"
    }
   ],
   "source": [
    "sst1_porosities"
   ]
  },
  {
   "cell_type": "code",
   "execution_count": null,
   "id": "ee77d408",
   "metadata": {},
   "outputs": [],
   "source": [
    "sst1_porosities"
   ]
  },
  {
   "cell_type": "markdown",
   "id": "af350f8b",
   "metadata": {},
   "source": [
    "### list is muytable it is modifyable"
   ]
  },
  {
   "cell_type": "code",
   "execution_count": 82,
   "id": "eceec0b5",
   "metadata": {},
   "outputs": [
    {
     "data": {
      "text/plain": [
       "[0.23, 0.22, 0.25]"
      ]
     },
     "execution_count": 82,
     "metadata": {},
     "output_type": "execute_result"
    }
   ],
   "source": [
    "sst1_porosities"
   ]
  },
  {
   "cell_type": "code",
   "execution_count": 83,
   "id": "b398da0a",
   "metadata": {},
   "outputs": [],
   "source": [
    "sst1_porosities.append(27)"
   ]
  },
  {
   "cell_type": "code",
   "execution_count": 84,
   "id": "1052cec9",
   "metadata": {},
   "outputs": [
    {
     "data": {
      "text/plain": [
       "[0.23, 0.22, 0.25, 27]"
      ]
     },
     "execution_count": 84,
     "metadata": {},
     "output_type": "execute_result"
    }
   ],
   "source": [
    "sst1_porosities"
   ]
  },
  {
   "cell_type": "code",
   "execution_count": 85,
   "id": "181f0682",
   "metadata": {},
   "outputs": [],
   "source": [
    "sst1_porosities [-1] =0.27"
   ]
  },
  {
   "cell_type": "code",
   "execution_count": 86,
   "id": "8c9bbd57",
   "metadata": {},
   "outputs": [
    {
     "data": {
      "text/plain": [
       "[0.23, 0.22, 0.25, 0.27]"
      ]
     },
     "execution_count": 86,
     "metadata": {},
     "output_type": "execute_result"
    }
   ],
   "source": [
    "sst1_porosities"
   ]
  },
  {
   "cell_type": "code",
   "execution_count": 87,
   "id": "2f354ab2",
   "metadata": {},
   "outputs": [],
   "source": [
    "name = 'Alex'"
   ]
  },
  {
   "cell_type": "code",
   "execution_count": 88,
   "id": "b903ff86",
   "metadata": {},
   "outputs": [
    {
     "data": {
      "text/plain": [
       "'x'"
      ]
     },
     "execution_count": 88,
     "metadata": {},
     "output_type": "execute_result"
    }
   ],
   "source": [
    "name[-1]"
   ]
  },
  {
   "cell_type": "code",
   "execution_count": 89,
   "id": "07d95369",
   "metadata": {},
   "outputs": [
    {
     "ename": "TypeError",
     "evalue": "'str' object does not support item assignment",
     "output_type": "error",
     "traceback": [
      "\u001b[1;31m---------------------------------------------------------------------------\u001b[0m",
      "\u001b[1;31mTypeError\u001b[0m                                 Traceback (most recent call last)",
      "Input \u001b[1;32mIn [89]\u001b[0m, in \u001b[0;36m<cell line: 1>\u001b[1;34m()\u001b[0m\n\u001b[1;32m----> 1\u001b[0m name[\u001b[38;5;241m-\u001b[39m\u001b[38;5;241m1\u001b[39m] \u001b[38;5;241m=\u001b[39m \u001b[38;5;124m'\u001b[39m\u001b[38;5;124mu\u001b[39m\u001b[38;5;124m'\u001b[39m\n",
      "\u001b[1;31mTypeError\u001b[0m: 'str' object does not support item assignment"
     ]
    }
   ],
   "source": [
    "name[-1] = 'u'"
   ]
  },
  {
   "cell_type": "code",
   "execution_count": null,
   "id": "8fb76bcd",
   "metadata": {},
   "outputs": [],
   "source": [
    " "
   ]
  }
 ],
 "metadata": {
  "kernelspec": {
   "display_name": "Python 3 (ipykernel)",
   "language": "python",
   "name": "python3"
  },
  "language_info": {
   "codemirror_mode": {
    "name": "ipython",
    "version": 3
   },
   "file_extension": ".py",
   "mimetype": "text/x-python",
   "name": "python",
   "nbconvert_exporter": "python",
   "pygments_lexer": "ipython3",
   "version": "3.9.12"
  }
 },
 "nbformat": 4,
 "nbformat_minor": 5
}
