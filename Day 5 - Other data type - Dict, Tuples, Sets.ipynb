{
 "cells": [
  {
   "cell_type": "markdown",
   "id": "ab20779b",
   "metadata": {},
   "source": [
    "## Tuples\n",
    "\n",
    "- immutable\n",
    "- defines (a , b)"
   ]
  },
  {
   "cell_type": "code",
   "execution_count": 1,
   "id": "8c865d28",
   "metadata": {},
   "outputs": [],
   "source": [
    "my_first_tuple = (100, 200, 300)"
   ]
  },
  {
   "cell_type": "code",
   "execution_count": 3,
   "id": "48497882",
   "metadata": {},
   "outputs": [
    {
     "data": {
      "text/plain": [
       "tuple"
      ]
     },
     "execution_count": 3,
     "metadata": {},
     "output_type": "execute_result"
    }
   ],
   "source": [
    "type (my_first_tuple)"
   ]
  },
  {
   "cell_type": "code",
   "execution_count": 5,
   "id": "44b98c39",
   "metadata": {},
   "outputs": [
    {
     "data": {
      "text/plain": [
       "(100, 'ABC', 200)"
      ]
     },
     "execution_count": 5,
     "metadata": {},
     "output_type": "execute_result"
    }
   ],
   "source": [
    "(100, 'ABC', 200)"
   ]
  },
  {
   "cell_type": "code",
   "execution_count": 6,
   "id": "a5d935db",
   "metadata": {},
   "outputs": [
    {
     "data": {
      "text/plain": [
       "100"
      ]
     },
     "execution_count": 6,
     "metadata": {},
     "output_type": "execute_result"
    }
   ],
   "source": [
    "my_first_tuple[0]"
   ]
  },
  {
   "cell_type": "code",
   "execution_count": 7,
   "id": "bac861ca",
   "metadata": {},
   "outputs": [
    {
     "ename": "TypeError",
     "evalue": "'tuple' object does not support item assignment",
     "output_type": "error",
     "traceback": [
      "\u001b[1;31m---------------------------------------------------------------------------\u001b[0m",
      "\u001b[1;31mTypeError\u001b[0m                                 Traceback (most recent call last)",
      "Input \u001b[1;32mIn [7]\u001b[0m, in \u001b[0;36m<cell line: 1>\u001b[1;34m()\u001b[0m\n\u001b[1;32m----> 1\u001b[0m my_first_tuple[\u001b[38;5;241m0\u001b[39m] \u001b[38;5;241m=\u001b[39m \u001b[38;5;241m100.04\u001b[39m\n",
      "\u001b[1;31mTypeError\u001b[0m: 'tuple' object does not support item assignment"
     ]
    }
   ],
   "source": [
    "my_first_tuple[0] = 100.04"
   ]
  },
  {
   "cell_type": "code",
   "execution_count": 8,
   "id": "29014f57",
   "metadata": {},
   "outputs": [],
   "source": [
    "my_tuple_1to10 = tuple(range(10))"
   ]
  },
  {
   "cell_type": "code",
   "execution_count": 9,
   "id": "b1fe68ab",
   "metadata": {},
   "outputs": [
    {
     "data": {
      "text/plain": [
       "(0, 1, 2, 3, 4, 5, 6, 7, 8, 9)"
      ]
     },
     "execution_count": 9,
     "metadata": {},
     "output_type": "execute_result"
    }
   ],
   "source": [
    "my_tuple_1to10"
   ]
  },
  {
   "cell_type": "code",
   "execution_count": 11,
   "id": "9eb8b275",
   "metadata": {},
   "outputs": [
    {
     "data": {
      "text/plain": [
       "(2, 3, 4, 5, 6, 7, 8, 9)"
      ]
     },
     "execution_count": 11,
     "metadata": {},
     "output_type": "execute_result"
    }
   ],
   "source": [
    "my_tuple_1to10[2 :]"
   ]
  },
  {
   "cell_type": "markdown",
   "id": "853e28a2",
   "metadata": {},
   "source": [
    "## Set {a , b}"
   ]
  },
  {
   "cell_type": "code",
   "execution_count": 15,
   "id": "d5e8bf74",
   "metadata": {},
   "outputs": [
    {
     "data": {
      "text/plain": [
       "{1, 2, 3, 4, 'A', 'B'}"
      ]
     },
     "execution_count": 15,
     "metadata": {},
     "output_type": "execute_result"
    }
   ],
   "source": [
    "my_dupContaining_list =[1,2,2,3,4,4,4,'A','A','A','B']\n",
    "set(my_dupContaining_list)"
   ]
  },
  {
   "cell_type": "code",
   "execution_count": 14,
   "id": "091dab86",
   "metadata": {},
   "outputs": [],
   "source": [
    "my_unique_set = set(my_dupContaining_list)"
   ]
  },
  {
   "cell_type": "code",
   "execution_count": 16,
   "id": "5d972fa0",
   "metadata": {},
   "outputs": [
    {
     "data": {
      "text/plain": [
       "{1, 2, 3, 4, 'A', 'B'}"
      ]
     },
     "execution_count": 16,
     "metadata": {},
     "output_type": "execute_result"
    }
   ],
   "source": [
    "my_unique_set"
   ]
  },
  {
   "cell_type": "code",
   "execution_count": 18,
   "id": "eba4012d",
   "metadata": {},
   "outputs": [
    {
     "data": {
      "text/plain": [
       "{1, 2, 3, 4, 5}"
      ]
     },
     "execution_count": 18,
     "metadata": {},
     "output_type": "execute_result"
    }
   ],
   "source": [
    "{5,5,5,1,2,2,2,3,4,4,4,4,4,5}"
   ]
  },
  {
   "cell_type": "code",
   "execution_count": 19,
   "id": "48fc51d5",
   "metadata": {},
   "outputs": [
    {
     "data": {
      "text/plain": [
       "[1, 2, 3, 4, 5]"
      ]
     },
     "execution_count": 19,
     "metadata": {},
     "output_type": "execute_result"
    }
   ],
   "source": [
    "list({5,5,5,1,2,2,2,3,4,4,4,4,4,5})"
   ]
  },
  {
   "cell_type": "code",
   "execution_count": 20,
   "id": "38fa27ff",
   "metadata": {},
   "outputs": [
    {
     "data": {
      "text/plain": [
       "1"
      ]
     },
     "execution_count": 20,
     "metadata": {},
     "output_type": "execute_result"
    }
   ],
   "source": [
    "list({5,5,5,1,2,2,2,3,4,4,4,4,4,5})[0]"
   ]
  },
  {
   "cell_type": "code",
   "execution_count": 21,
   "id": "712e665a",
   "metadata": {},
   "outputs": [
    {
     "data": {
      "text/plain": [
       "{1, 2, 3, 4, 'A', 'B'}"
      ]
     },
     "execution_count": 21,
     "metadata": {},
     "output_type": "execute_result"
    }
   ],
   "source": [
    "my_unique_set"
   ]
  },
  {
   "cell_type": "code",
   "execution_count": 31,
   "id": "4cbbc1f3",
   "metadata": {},
   "outputs": [],
   "source": [
    "set1 = {1,2,3} ; set2 = {'A','B','C'} ; set3 = {'B','C',4,5} ; set4 = {'B','C',4,5,6}"
   ]
  },
  {
   "cell_type": "code",
   "execution_count": 27,
   "id": "af4be98d",
   "metadata": {},
   "outputs": [
    {
     "data": {
      "text/plain": [
       "{1, 2, 3, 'A', 'B', 'C'}"
      ]
     },
     "execution_count": 27,
     "metadata": {},
     "output_type": "execute_result"
    }
   ],
   "source": [
    "set1.union(set2)"
   ]
  },
  {
   "cell_type": "code",
   "execution_count": 29,
   "id": "77cdeb0f",
   "metadata": {},
   "outputs": [
    {
     "data": {
      "text/plain": [
       "{'B', 'C'}"
      ]
     },
     "execution_count": 29,
     "metadata": {},
     "output_type": "execute_result"
    }
   ],
   "source": [
    "set2.intersection(set3)"
   ]
  },
  {
   "cell_type": "code",
   "execution_count": 34,
   "id": "c605191c",
   "metadata": {},
   "outputs": [
    {
     "data": {
      "text/plain": [
       "True"
      ]
     },
     "execution_count": 34,
     "metadata": {},
     "output_type": "execute_result"
    }
   ],
   "source": [
    "set4.issuperset(set4) ; set3.issubset(set4)"
   ]
  },
  {
   "cell_type": "code",
   "execution_count": 35,
   "id": "bd76dc47",
   "metadata": {},
   "outputs": [
    {
     "data": {
      "text/plain": [
       "(True, True)"
      ]
     },
     "execution_count": 35,
     "metadata": {},
     "output_type": "execute_result"
    }
   ],
   "source": [
    "set4.issuperset(set4) , set3.issubset(set4)"
   ]
  },
  {
   "cell_type": "code",
   "execution_count": 36,
   "id": "e8bf71bf",
   "metadata": {},
   "outputs": [
    {
     "ename": "TypeError",
     "evalue": "unsupported operand type(s) for +: 'set' and 'set'",
     "output_type": "error",
     "traceback": [
      "\u001b[1;31m---------------------------------------------------------------------------\u001b[0m",
      "\u001b[1;31mTypeError\u001b[0m                                 Traceback (most recent call last)",
      "Input \u001b[1;32mIn [36]\u001b[0m, in \u001b[0;36m<cell line: 1>\u001b[1;34m()\u001b[0m\n\u001b[1;32m----> 1\u001b[0m \u001b[43mset1\u001b[49m\u001b[43m \u001b[49m\u001b[38;5;241;43m+\u001b[39;49m\u001b[43m \u001b[49m\u001b[43mset2\u001b[49m\n",
      "\u001b[1;31mTypeError\u001b[0m: unsupported operand type(s) for +: 'set' and 'set'"
     ]
    }
   ],
   "source": [
    "set1 + set2"
   ]
  },
  {
   "cell_type": "code",
   "execution_count": 37,
   "id": "4a1d6b8e",
   "metadata": {},
   "outputs": [
    {
     "data": {
      "text/plain": [
       "[1, 2, 3, 'A', 'B', 'C']"
      ]
     },
     "execution_count": 37,
     "metadata": {},
     "output_type": "execute_result"
    }
   ],
   "source": [
    "list(set1) + list(set2)"
   ]
  },
  {
   "cell_type": "code",
   "execution_count": 38,
   "id": "a1c47e12",
   "metadata": {},
   "outputs": [
    {
     "data": {
      "text/plain": [
       "['B', 4, 5, 'C', 'B', 4, 5, 'C', 6]"
      ]
     },
     "execution_count": 38,
     "metadata": {},
     "output_type": "execute_result"
    }
   ],
   "source": [
    "list(set3) + list(set4)"
   ]
  },
  {
   "cell_type": "markdown",
   "id": "9978bdfa",
   "metadata": {},
   "source": [
    "** Union is not addition**"
   ]
  },
  {
   "cell_type": "markdown",
   "id": "aa0c69bc",
   "metadata": {},
   "source": [
    "---\n",
    "---"
   ]
  },
  {
   "cell_type": "markdown",
   "id": "475785c3",
   "metadata": {},
   "source": [
    "### DICTIONARY\n",
    "\n",
    "```{key1 : value1 , key2 : value2 , key3 : value3 , ......}```"
   ]
  },
  {
   "cell_type": "code",
   "execution_count": 40,
   "id": "b5b768d7",
   "metadata": {},
   "outputs": [
    {
     "ename": "NameError",
     "evalue": "name 'key' is not defined",
     "output_type": "error",
     "traceback": [
      "\u001b[1;31m---------------------------------------------------------------------------\u001b[0m",
      "\u001b[1;31mNameError\u001b[0m                                 Traceback (most recent call last)",
      "Input \u001b[1;32mIn [40]\u001b[0m, in \u001b[0;36m<cell line: 1>\u001b[1;34m()\u001b[0m\n\u001b[1;32m----> 1\u001b[0m my_ex_dic \u001b[38;5;241m=\u001b[39m {\u001b[43mkey\u001b[49m : value , key1 : value1}\n",
      "\u001b[1;31mNameError\u001b[0m: name 'key' is not defined"
     ]
    }
   ],
   "source": [
    "my_ex_dic = {key : value , key1 : value1}"
   ]
  },
  {
   "cell_type": "code",
   "execution_count": 41,
   "id": "682fa7da",
   "metadata": {},
   "outputs": [],
   "source": [
    "my_ex_dic = {'key' : 'value' , 'key1' : 'value1'}"
   ]
  },
  {
   "cell_type": "code",
   "execution_count": 42,
   "id": "3fd464aa",
   "metadata": {},
   "outputs": [
    {
     "data": {
      "text/plain": [
       "'value'"
      ]
     },
     "execution_count": 42,
     "metadata": {},
     "output_type": "execute_result"
    }
   ],
   "source": [
    "my_ex_dic['key']"
   ]
  },
  {
   "cell_type": "code",
   "execution_count": 43,
   "id": "0ebab840",
   "metadata": {},
   "outputs": [
    {
     "data": {
      "text/plain": [
       "('value1', 'value')"
      ]
     },
     "execution_count": 43,
     "metadata": {},
     "output_type": "execute_result"
    }
   ],
   "source": [
    "my_ex_dic['key1'] , my_ex_dic['key']"
   ]
  },
  {
   "cell_type": "code",
   "execution_count": 44,
   "id": "cf592600",
   "metadata": {},
   "outputs": [],
   "source": [
    "my_res_details = {'SSTA' : [0.25 , 125],\n",
    "                  'SSTB' : [0.17 , 80 ]}"
   ]
  },
  {
   "cell_type": "code",
   "execution_count": 45,
   "id": "f89b804a",
   "metadata": {},
   "outputs": [
    {
     "data": {
      "text/plain": [
       "{'SSTA': [0.25, 125], 'SSTB': [0.17, 80]}"
      ]
     },
     "execution_count": 45,
     "metadata": {},
     "output_type": "execute_result"
    }
   ],
   "source": [
    "my_res_details"
   ]
  },
  {
   "cell_type": "code",
   "execution_count": 47,
   "id": "00e432cd",
   "metadata": {},
   "outputs": [
    {
     "data": {
      "text/plain": [
       "dict"
      ]
     },
     "execution_count": 47,
     "metadata": {},
     "output_type": "execute_result"
    }
   ],
   "source": [
    "type(my_res_details)"
   ]
  },
  {
   "cell_type": "code",
   "execution_count": 48,
   "id": "371203d2",
   "metadata": {},
   "outputs": [
    {
     "data": {
      "text/plain": [
       "[0.25, 125]"
      ]
     },
     "execution_count": 48,
     "metadata": {},
     "output_type": "execute_result"
    }
   ],
   "source": [
    "my_res_details['SSTA']"
   ]
  },
  {
   "cell_type": "code",
   "execution_count": 49,
   "id": "4a311e75",
   "metadata": {},
   "outputs": [
    {
     "data": {
      "text/plain": [
       "list"
      ]
     },
     "execution_count": 49,
     "metadata": {},
     "output_type": "execute_result"
    }
   ],
   "source": [
    "type(my_res_details['SSTA'])"
   ]
  },
  {
   "cell_type": "code",
   "execution_count": 54,
   "id": "5c9c6774",
   "metadata": {},
   "outputs": [
    {
     "data": {
      "text/plain": [
       "125"
      ]
     },
     "execution_count": 54,
     "metadata": {},
     "output_type": "execute_result"
    }
   ],
   "source": [
    "my_res_details['SSTA'][1]"
   ]
  },
  {
   "cell_type": "code",
   "execution_count": 55,
   "id": "475c994d",
   "metadata": {},
   "outputs": [
    {
     "data": {
      "text/plain": [
       "0.17"
      ]
     },
     "execution_count": 55,
     "metadata": {},
     "output_type": "execute_result"
    }
   ],
   "source": [
    "my_res_details['SSTB'][0]"
   ]
  },
  {
   "cell_type": "markdown",
   "id": "7b5f69b5",
   "metadata": {},
   "source": [
    "### Advance Example"
   ]
  },
  {
   "cell_type": "code",
   "execution_count": 67,
   "id": "99aa73ad",
   "metadata": {},
   "outputs": [],
   "source": [
    "my_res_details_new = {'RockA' : {'Lith':'SST', 'Perm(md)':125, 'Poro':0.25},\n",
    "                      'RockB' : {'Lith':'LST', 'Perm(md)':10, 'Poro':0.10}}"
   ]
  },
  {
   "cell_type": "markdown",
   "id": "9ca2161b",
   "metadata": {},
   "source": [
    "Q-1 - What is porosity for RockB?"
   ]
  },
  {
   "cell_type": "code",
   "execution_count": 68,
   "id": "3b4f331d",
   "metadata": {},
   "outputs": [
    {
     "data": {
      "text/plain": [
       "{'Lith': 'LST', 'Perm(md)': 10, 'Poro': 0.1}"
      ]
     },
     "execution_count": 68,
     "metadata": {},
     "output_type": "execute_result"
    }
   ],
   "source": [
    "my_res_details_new['RockB']"
   ]
  },
  {
   "cell_type": "code",
   "execution_count": 69,
   "id": "41d03811",
   "metadata": {},
   "outputs": [
    {
     "data": {
      "text/plain": [
       "0.1"
      ]
     },
     "execution_count": 69,
     "metadata": {},
     "output_type": "execute_result"
    }
   ],
   "source": [
    "my_res_details_new['RockB']['Poro']"
   ]
  },
  {
   "cell_type": "markdown",
   "id": "bd93168b",
   "metadata": {},
   "source": [
    "Example"
   ]
  },
  {
   "cell_type": "code",
   "execution_count": 70,
   "id": "e6060262",
   "metadata": {},
   "outputs": [],
   "source": [
    "my_details = {'Name' : 'Divyanshu Vyas', 'Industry' : 'O&G', 'Age' : 15}"
   ]
  },
  {
   "cell_type": "code",
   "execution_count": 71,
   "id": "39c51bc3",
   "metadata": {},
   "outputs": [
    {
     "data": {
      "text/plain": [
       "{'Name': 'Divyanshu Vyas', 'Industry': 'O&G', 'Age': 15}"
      ]
     },
     "execution_count": 71,
     "metadata": {},
     "output_type": "execute_result"
    }
   ],
   "source": [
    "my_details"
   ]
  },
  {
   "cell_type": "markdown",
   "id": "84ad9962",
   "metadata": {},
   "source": [
    "# Q find last name of person from Dict"
   ]
  },
  {
   "cell_type": "code",
   "execution_count": 73,
   "id": "9504ea57",
   "metadata": {},
   "outputs": [],
   "source": [
    "my_details_new = str(my_details)"
   ]
  },
  {
   "cell_type": "code",
   "execution_count": 74,
   "id": "ce776e35",
   "metadata": {},
   "outputs": [
    {
     "data": {
      "text/plain": [
       "\"{'Name': 'Divyanshu Vyas', 'Industry': 'O&G', 'Age': 15}\""
      ]
     },
     "execution_count": 74,
     "metadata": {},
     "output_type": "execute_result"
    }
   ],
   "source": [
    "my_details_new"
   ]
  },
  {
   "cell_type": "code",
   "execution_count": 75,
   "id": "bd3c480b",
   "metadata": {},
   "outputs": [],
   "source": [
    "my_details_new1 = my_details_new.split(' ')"
   ]
  },
  {
   "cell_type": "code",
   "execution_count": 76,
   "id": "58f7dd29",
   "metadata": {},
   "outputs": [
    {
     "data": {
      "text/plain": [
       "[\"{'Name':\", \"'Divyanshu\", \"Vyas',\", \"'Industry':\", \"'O&G',\", \"'Age':\", '15}']"
      ]
     },
     "execution_count": 76,
     "metadata": {},
     "output_type": "execute_result"
    }
   ],
   "source": [
    "my_details_new1"
   ]
  },
  {
   "cell_type": "code",
   "execution_count": 77,
   "id": "85a2116c",
   "metadata": {},
   "outputs": [
    {
     "data": {
      "text/plain": [
       "\"Vyas',\""
      ]
     },
     "execution_count": 77,
     "metadata": {},
     "output_type": "execute_result"
    }
   ],
   "source": [
    "my_details_new1[2]"
   ]
  },
  {
   "cell_type": "code",
   "execution_count": 78,
   "id": "b4078359",
   "metadata": {},
   "outputs": [
    {
     "data": {
      "text/plain": [
       "\"Vyas',\""
      ]
     },
     "execution_count": 78,
     "metadata": {},
     "output_type": "execute_result"
    }
   ],
   "source": [
    "my_details_new = str(my_details)\n",
    "my_details_new1 = my_details_new.split(' ')\n",
    "my_details_new1[2]"
   ]
  },
  {
   "cell_type": "code",
   "execution_count": 79,
   "id": "95f67e6e",
   "metadata": {},
   "outputs": [],
   "source": [
    " name = my_details['Name']"
   ]
  },
  {
   "cell_type": "code",
   "execution_count": 80,
   "id": "21941140",
   "metadata": {},
   "outputs": [
    {
     "data": {
      "text/plain": [
       "'Divyanshu Vyas'"
      ]
     },
     "execution_count": 80,
     "metadata": {},
     "output_type": "execute_result"
    }
   ],
   "source": [
    "name"
   ]
  },
  {
   "cell_type": "code",
   "execution_count": 81,
   "id": "4f26f02c",
   "metadata": {},
   "outputs": [],
   "source": [
    "last_name = name.split(' ')[-1]"
   ]
  },
  {
   "cell_type": "code",
   "execution_count": 82,
   "id": "a8664798",
   "metadata": {},
   "outputs": [
    {
     "data": {
      "text/plain": [
       "'Vyas'"
      ]
     },
     "execution_count": 82,
     "metadata": {},
     "output_type": "execute_result"
    }
   ],
   "source": [
    "last_name"
   ]
  },
  {
   "cell_type": "code",
   "execution_count": 85,
   "id": "4e9a5e97",
   "metadata": {},
   "outputs": [
    {
     "data": {
      "text/plain": [
       "'Vyas'"
      ]
     },
     "execution_count": 85,
     "metadata": {},
     "output_type": "execute_result"
    }
   ],
   "source": [
    "last_name = my_details['Name'].split(' ')[-1]\n",
    "last_name"
   ]
  },
  {
   "cell_type": "code",
   "execution_count": 84,
   "id": "e83bc660",
   "metadata": {},
   "outputs": [
    {
     "data": {
      "text/plain": [
       "'Vyas'"
      ]
     },
     "execution_count": 84,
     "metadata": {},
     "output_type": "execute_result"
    }
   ],
   "source": []
  },
  {
   "cell_type": "markdown",
   "id": "c6de39b6",
   "metadata": {},
   "source": [
    "---\n",
    "---"
   ]
  },
  {
   "cell_type": "code",
   "execution_count": 86,
   "id": "db813545",
   "metadata": {},
   "outputs": [],
   "source": [
    "dic_numbers = {'A':list(range(10)), 'B':list(range(21,31))}"
   ]
  },
  {
   "cell_type": "code",
   "execution_count": 87,
   "id": "4e6c4621",
   "metadata": {},
   "outputs": [
    {
     "name": "stdout",
     "output_type": "stream",
     "text": [
      "{'A': [0, 1, 2, 3, 4, 5, 6, 7, 8, 9], 'B': [21, 22, 23, 24, 25, 26, 27, 28, 29, 30]}\n"
     ]
    }
   ],
   "source": [
    "print(dic_numbers)"
   ]
  },
  {
   "cell_type": "code",
   "execution_count": 89,
   "id": "7ec52e2f",
   "metadata": {},
   "outputs": [
    {
     "data": {
      "text/plain": [
       "dict_keys(['A', 'B'])"
      ]
     },
     "execution_count": 89,
     "metadata": {},
     "output_type": "execute_result"
    }
   ],
   "source": [
    "dic_numbers.keys()"
   ]
  },
  {
   "cell_type": "code",
   "execution_count": 90,
   "id": "671220fc",
   "metadata": {},
   "outputs": [
    {
     "data": {
      "text/plain": [
       "dict_values([[0, 1, 2, 3, 4, 5, 6, 7, 8, 9], [21, 22, 23, 24, 25, 26, 27, 28, 29, 30]])"
      ]
     },
     "execution_count": 90,
     "metadata": {},
     "output_type": "execute_result"
    }
   ],
   "source": [
    "dic_numbers.values()"
   ]
  },
  {
   "cell_type": "markdown",
   "id": "7413b35b",
   "metadata": {},
   "source": [
    "### EDITING DICTIONARY"
   ]
  },
  {
   "cell_type": "code",
   "execution_count": 91,
   "id": "eb4c5db7",
   "metadata": {},
   "outputs": [
    {
     "data": {
      "text/plain": [
       "{'RockA': {'Lith': 'SST', 'Perm(md)': 125, 'Poro': 0.25},\n",
       " 'RockB': {'Lith': 'LST', 'Perm(md)': 10, 'Poro': 0.1}}"
      ]
     },
     "execution_count": 91,
     "metadata": {},
     "output_type": "execute_result"
    }
   ],
   "source": [
    "my_res_details_new"
   ]
  },
  {
   "cell_type": "markdown",
   "id": "919720c3",
   "metadata": {},
   "source": [
    "*** Adding a new Key:Value pair"
   ]
  },
  {
   "cell_type": "code",
   "execution_count": 94,
   "id": "491065de",
   "metadata": {},
   "outputs": [],
   "source": [
    "my_res_details_new['RockC'] =  {'Lith': 'SST', 'Perm(md)': 100, 'Poro': 0.20}"
   ]
  },
  {
   "cell_type": "code",
   "execution_count": 95,
   "id": "92bc4710",
   "metadata": {},
   "outputs": [
    {
     "data": {
      "text/plain": [
       "{'RockA': {'Lith': 'SST', 'Perm(md)': 125, 'Poro': 0.25},\n",
       " 'RockB': {'Lith': 'LST', 'Perm(md)': 10, 'Poro': 0.1},\n",
       " 'RockC': {'Lith': 'SST', 'Perm(md)': 100, 'Poro': 0.2}}"
      ]
     },
     "execution_count": 95,
     "metadata": {},
     "output_type": "execute_result"
    }
   ],
   "source": [
    "my_res_details_new"
   ]
  },
  {
   "cell_type": "code",
   "execution_count": 96,
   "id": "8dd0403d",
   "metadata": {},
   "outputs": [],
   "source": [
    "my_res_details_new['RockD'] =  {'Lith': 'SST', 'Perm(md)': 150, 'Poro': 0.23}"
   ]
  },
  {
   "cell_type": "code",
   "execution_count": 97,
   "id": "cd78743a",
   "metadata": {},
   "outputs": [
    {
     "data": {
      "text/plain": [
       "{'RockA': {'Lith': 'SST', 'Perm(md)': 125, 'Poro': 0.25},\n",
       " 'RockB': {'Lith': 'LST', 'Perm(md)': 10, 'Poro': 0.1},\n",
       " 'RockC': {'Lith': 'SST', 'Perm(md)': 100, 'Poro': 0.2},\n",
       " 'RockD': {'Lith': 'SST', 'Perm(md)': 150, 'Poro': 0.23}}"
      ]
     },
     "execution_count": 97,
     "metadata": {},
     "output_type": "execute_result"
    }
   ],
   "source": [
    "my_res_details_new"
   ]
  },
  {
   "cell_type": "markdown",
   "id": "bbf8b1a1",
   "metadata": {},
   "source": [
    "** Correct and make the Poro of RockD to be 0.25 instead 0.23"
   ]
  },
  {
   "cell_type": "code",
   "execution_count": 99,
   "id": "8eabd9c0",
   "metadata": {},
   "outputs": [],
   "source": [
    "my_res_details_new['RockD']['Poro'] = 0.25"
   ]
  },
  {
   "cell_type": "code",
   "execution_count": 100,
   "id": "044e6aaa",
   "metadata": {},
   "outputs": [
    {
     "data": {
      "text/plain": [
       "{'RockA': {'Lith': 'SST', 'Perm(md)': 125, 'Poro': 0.25},\n",
       " 'RockB': {'Lith': 'LST', 'Perm(md)': 10, 'Poro': 0.1},\n",
       " 'RockC': {'Lith': 'SST', 'Perm(md)': 100, 'Poro': 0.2},\n",
       " 'RockD': {'Lith': 'SST', 'Perm(md)': 150, 'Poro': 0.25}}"
      ]
     },
     "execution_count": 100,
     "metadata": {},
     "output_type": "execute_result"
    }
   ],
   "source": [
    "my_res_details_new"
   ]
  },
  {
   "cell_type": "markdown",
   "id": "523e8098",
   "metadata": {},
   "source": [
    " ** to change KEY in DICT - not possible"
   ]
  },
  {
   "cell_type": "code",
   "execution_count": 101,
   "id": "e309fad3",
   "metadata": {},
   "outputs": [
    {
     "data": {
      "text/plain": [
       "dict_keys(['RockA', 'RockB', 'RockC', 'RockD'])"
      ]
     },
     "execution_count": 101,
     "metadata": {},
     "output_type": "execute_result"
    }
   ],
   "source": [
    "my_res_details_new.keys()"
   ]
  },
  {
   "cell_type": "markdown",
   "id": "43b8eaf6",
   "metadata": {},
   "source": [
    "### A DICT can be changed to atabular  datatype in Python"
   ]
  },
  {
   "cell_type": "code",
   "execution_count": 102,
   "id": "03dc6cb2",
   "metadata": {},
   "outputs": [],
   "source": [
    "my_poros = {'Depth':[1000, 1200, 1500],\n",
    "            'Poros':[0.25, 0.24, 0.22]}"
   ]
  },
  {
   "cell_type": "code",
   "execution_count": 103,
   "id": "625931f9",
   "metadata": {},
   "outputs": [
    {
     "data": {
      "text/plain": [
       "{'Depth': [1000, 1200, 1500], 'Poros': [0.25, 0.24, 0.22]}"
      ]
     },
     "execution_count": 103,
     "metadata": {},
     "output_type": "execute_result"
    }
   ],
   "source": [
    "my_poros"
   ]
  },
  {
   "cell_type": "code",
   "execution_count": 104,
   "id": "4f5bbe41",
   "metadata": {},
   "outputs": [],
   "source": [
    "import pandas as pd"
   ]
  },
  {
   "cell_type": "code",
   "execution_count": 105,
   "id": "537d3bfb",
   "metadata": {},
   "outputs": [
    {
     "data": {
      "text/html": [
       "<div>\n",
       "<style scoped>\n",
       "    .dataframe tbody tr th:only-of-type {\n",
       "        vertical-align: middle;\n",
       "    }\n",
       "\n",
       "    .dataframe tbody tr th {\n",
       "        vertical-align: top;\n",
       "    }\n",
       "\n",
       "    .dataframe thead th {\n",
       "        text-align: right;\n",
       "    }\n",
       "</style>\n",
       "<table border=\"1\" class=\"dataframe\">\n",
       "  <thead>\n",
       "    <tr style=\"text-align: right;\">\n",
       "      <th></th>\n",
       "      <th>Depth</th>\n",
       "      <th>Poros</th>\n",
       "    </tr>\n",
       "  </thead>\n",
       "  <tbody>\n",
       "    <tr>\n",
       "      <th>0</th>\n",
       "      <td>1000</td>\n",
       "      <td>0.25</td>\n",
       "    </tr>\n",
       "    <tr>\n",
       "      <th>1</th>\n",
       "      <td>1200</td>\n",
       "      <td>0.24</td>\n",
       "    </tr>\n",
       "    <tr>\n",
       "      <th>2</th>\n",
       "      <td>1500</td>\n",
       "      <td>0.22</td>\n",
       "    </tr>\n",
       "  </tbody>\n",
       "</table>\n",
       "</div>"
      ],
      "text/plain": [
       "   Depth  Poros\n",
       "0   1000   0.25\n",
       "1   1200   0.24\n",
       "2   1500   0.22"
      ]
     },
     "execution_count": 105,
     "metadata": {},
     "output_type": "execute_result"
    }
   ],
   "source": [
    "pd.DataFrame(my_poros)"
   ]
  },
  {
   "cell_type": "code",
   "execution_count": 106,
   "id": "7a6f9bdf",
   "metadata": {},
   "outputs": [
    {
     "data": {
      "text/plain": [
       "<AxesSubplot:>"
      ]
     },
     "execution_count": 106,
     "metadata": {},
     "output_type": "execute_result"
    },
    {
     "data": {
      "image/png": "[encoded data removed]",
      "text/plain": [
       "<Figure size 432x288 with 1 Axes>"
      ]
     },
     "metadata": {
      "needs_background": "light"
     },
     "output_type": "display_data"
    }
   ],
   "source": [
    "pd.DataFrame(my_poros).plot()"
   ]
  },
  {
   "cell_type": "code",
   "execution_count": 108,
   "id": "dc061607",
   "metadata": {},
   "outputs": [
    {
     "data": {
      "text/plain": [
       "<AxesSubplot:>"
      ]
     },
     "execution_count": 108,
     "metadata": {},
     "output_type": "execute_result"
    },
    {
     "data": {
      "image/png": "[encoded data removed]",
      "text/plain": [
       "<Figure size 432x288 with 1 Axes>"
      ]
     },
     "metadata": {
      "needs_background": "light"
     },
     "output_type": "display_data"
    }
   ],
   "source": [
    "pd.DataFrame(my_poros)['Poros'].plot()"
   ]
  },
  {
   "cell_type": "code",
   "execution_count": 109,
   "id": "284fd043",
   "metadata": {},
   "outputs": [
    {
     "data": {
      "text/plain": [
       "<AxesSubplot:>"
      ]
     },
     "execution_count": 109,
     "metadata": {},
     "output_type": "execute_result"
    },
    {
     "data": {
      "image/png": "[encoded data removed]",
      "text/plain": [
       "<Figure size 432x288 with 1 Axes>"
      ]
     },
     "metadata": {
      "needs_background": "light"
     },
     "output_type": "display_data"
    }
   ],
   "source": [
    "pd.DataFrame(my_poros)['Depth'].plot()"
   ]
  },
  {
   "cell_type": "code",
   "execution_count": null,
   "id": "41ac7694",
   "metadata": {},
   "outputs": [],
   "source": []
  }
 ],
 "metadata": {
  "kernelspec": {
   "display_name": "Python 3 (ipykernel)",
   "language": "python",
   "name": "python3"
  },
  "language_info": {
   "codemirror_mode": {
    "name": "ipython",
    "version": 3
   },
   "file_extension": ".py",
   "mimetype": "text/x-python",
   "name": "python",
   "nbconvert_exporter": "python",
   "pygments_lexer": "ipython3",
   "version": "3.9.12"
  }
 },
 "nbformat": 4,
 "nbformat_minor": 5
}
