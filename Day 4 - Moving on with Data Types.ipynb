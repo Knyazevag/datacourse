{
 "cells": [
  {
   "cell_type": "markdown",
   "id": "1460fece",
   "metadata": {},
   "source": [
    "### Mutability"
   ]
  },
  {
   "cell_type": "code",
   "execution_count": 1,
   "id": "2738221f",
   "metadata": {},
   "outputs": [],
   "source": [
    "rock_details = [27 , 220 , 'LST', 'F123', 'JC']"
   ]
  },
  {
   "cell_type": "markdown",
   "id": "f527e85c",
   "metadata": {},
   "source": [
    "The value at every index can be treated as a separate variable in a list. \n",
    "\n",
    "> And because a list is MUTABLE/MODIFYABLE : The vairable assignment is allowed. "
   ]
  },
  {
   "cell_type": "code",
   "execution_count": 3,
   "id": "d22cee27",
   "metadata": {},
   "outputs": [],
   "source": [
    "rock_details[2] = 'SST'"
   ]
  },
  {
   "cell_type": "code",
   "execution_count": 4,
   "id": "68d2e0fe",
   "metadata": {},
   "outputs": [
    {
     "data": {
      "text/plain": [
       "[27, 220, 'SST', 'F123', 'JC']"
      ]
     },
     "execution_count": 4,
     "metadata": {},
     "output_type": "execute_result"
    }
   ],
   "source": [
    "rock_details"
   ]
  },
  {
   "cell_type": "markdown",
   "id": "08c14136",
   "metadata": {},
   "source": [
    "---"
   ]
  },
  {
   "cell_type": "markdown",
   "id": "3dbc69e3",
   "metadata": {},
   "source": [
    "# String : A list of characters enclosed within ' ' or \" \"\n",
    "\n",
    "> Difference bw a string and a list :-\n",
    "\n",
    "1. The way both are created : ```[a , b] vs \"ab\" ```\n",
    "\n",
    "2. Mutability of Lists vs Immutability of Strings. \n",
    "\n",
    "> Common bw both :\n",
    "\n",
    "1. Indexing\n",
    "2. Slicing"
   ]
  },
  {
   "cell_type": "code",
   "execution_count": 6,
   "id": "b91cc64f",
   "metadata": {},
   "outputs": [],
   "source": [
    "rock_name_str = \"Sandstone\"\n",
    "\n",
    "rock_name_lst = ['S', 'a', 'n', 'd', 's', 't' , 'o', 'n', 'e']"
   ]
  },
  {
   "cell_type": "markdown",
   "id": "452f5c58",
   "metadata": {},
   "source": [
    "**Immutability of strings**"
   ]
  },
  {
   "cell_type": "code",
   "execution_count": 8,
   "id": "aba72b53",
   "metadata": {},
   "outputs": [],
   "source": [
    "rock_name_lst.append('s')"
   ]
  },
  {
   "cell_type": "code",
   "execution_count": 10,
   "id": "1145625e",
   "metadata": {},
   "outputs": [],
   "source": [
    "rock_name_lst[-1] = 'X'"
   ]
  },
  {
   "cell_type": "code",
   "execution_count": 14,
   "id": "27bd9138",
   "metadata": {},
   "outputs": [
    {
     "ename": "TypeError",
     "evalue": "'str' object does not support item assignment",
     "output_type": "error",
     "traceback": [
      "\u001b[1;31m---------------------------------------------------------------------------\u001b[0m",
      "\u001b[1;31mTypeError\u001b[0m                                 Traceback (most recent call last)",
      "\u001b[1;32m~\\AppData\\Local\\Temp/ipykernel_15284/94270803.py\u001b[0m in \u001b[0;36m<module>\u001b[1;34m\u001b[0m\n\u001b[1;32m----> 1\u001b[1;33m \u001b[0mrock_name_str\u001b[0m\u001b[1;33m[\u001b[0m\u001b[1;36m0\u001b[0m\u001b[1;33m]\u001b[0m \u001b[1;33m=\u001b[0m \u001b[1;34m'X'\u001b[0m\u001b[1;33m\u001b[0m\u001b[1;33m\u001b[0m\u001b[0m\n\u001b[0m",
      "\u001b[1;31mTypeError\u001b[0m: 'str' object does not support item assignment"
     ]
    }
   ],
   "source": [
    "rock_name_str[0] = 'X'"
   ]
  },
  {
   "cell_type": "code",
   "execution_count": 15,
   "id": "f5863149",
   "metadata": {},
   "outputs": [
    {
     "ename": "AttributeError",
     "evalue": "'str' object has no attribute 'append'",
     "output_type": "error",
     "traceback": [
      "\u001b[1;31m---------------------------------------------------------------------------\u001b[0m",
      "\u001b[1;31mAttributeError\u001b[0m                            Traceback (most recent call last)",
      "\u001b[1;32m~\\AppData\\Local\\Temp/ipykernel_15284/3698000524.py\u001b[0m in \u001b[0;36m<module>\u001b[1;34m\u001b[0m\n\u001b[1;32m----> 1\u001b[1;33m \u001b[0mrock_name_str\u001b[0m\u001b[1;33m.\u001b[0m\u001b[0mappend\u001b[0m\u001b[1;33m(\u001b[0m\u001b[1;34m'A'\u001b[0m\u001b[1;33m)\u001b[0m\u001b[1;33m\u001b[0m\u001b[1;33m\u001b[0m\u001b[0m\n\u001b[0m",
      "\u001b[1;31mAttributeError\u001b[0m: 'str' object has no attribute 'append'"
     ]
    }
   ],
   "source": [
    "rock_name_str.append('A')"
   ]
  },
  {
   "cell_type": "markdown",
   "id": "94a9fd7b",
   "metadata": {},
   "source": [
    "**Slicing and indexing in a STRING**"
   ]
  },
  {
   "cell_type": "code",
   "execution_count": 16,
   "id": "9bc85db9",
   "metadata": {},
   "outputs": [
    {
     "data": {
      "text/plain": [
       "'Sandstone'"
      ]
     },
     "execution_count": 16,
     "metadata": {},
     "output_type": "execute_result"
    }
   ],
   "source": [
    "rock_name"
   ]
  },
  {
   "cell_type": "code",
   "execution_count": 17,
   "id": "e327733c",
   "metadata": {},
   "outputs": [
    {
     "data": {
      "text/plain": [
       "'and'"
      ]
     },
     "execution_count": 17,
     "metadata": {},
     "output_type": "execute_result"
    }
   ],
   "source": [
    "'and'"
   ]
  },
  {
   "cell_type": "code",
   "execution_count": 18,
   "id": "f1addea7",
   "metadata": {},
   "outputs": [
    {
     "data": {
      "text/plain": [
       "'and'"
      ]
     },
     "execution_count": 18,
     "metadata": {},
     "output_type": "execute_result"
    }
   ],
   "source": [
    "rock_name[1:4]"
   ]
  },
  {
   "cell_type": "markdown",
   "id": "e770f41d",
   "metadata": {},
   "source": [
    "Q : Print every alternate element or character in ```rock_name```"
   ]
  },
  {
   "cell_type": "code",
   "execution_count": 19,
   "id": "e3b995e7",
   "metadata": {},
   "outputs": [
    {
     "data": {
      "text/plain": [
       "'Snsoe'"
      ]
     },
     "execution_count": 19,
     "metadata": {},
     "output_type": "execute_result"
    }
   ],
   "source": [
    "'Snsoe'"
   ]
  },
  {
   "cell_type": "markdown",
   "id": "592ace3e",
   "metadata": {},
   "source": [
    "```my_str[start : stop :step]```"
   ]
  },
  {
   "cell_type": "code",
   "execution_count": 20,
   "id": "82af503c",
   "metadata": {},
   "outputs": [
    {
     "data": {
      "text/plain": [
       "'Snsoe'"
      ]
     },
     "execution_count": 20,
     "metadata": {},
     "output_type": "execute_result"
    }
   ],
   "source": [
    "rock_name[0 : 9 : 2]"
   ]
  },
  {
   "cell_type": "markdown",
   "id": "1a40fcbc",
   "metadata": {},
   "source": [
    "default : ```my_str[ : : ]```\n",
    "\n",
    "- start : 0th index\n",
    "\n",
    "- stop : last + 1 index\n",
    "\n",
    "- step : 1 step"
   ]
  },
  {
   "cell_type": "code",
   "execution_count": 21,
   "id": "fe9c644e",
   "metadata": {},
   "outputs": [
    {
     "data": {
      "text/plain": [
       "'Snsoe'"
      ]
     },
     "execution_count": 21,
     "metadata": {},
     "output_type": "execute_result"
    }
   ],
   "source": [
    "rock_name[ : : 2]"
   ]
  },
  {
   "cell_type": "markdown",
   "id": "2d249e3c",
   "metadata": {},
   "source": [
    "Q : Reverse the string"
   ]
  },
  {
   "cell_type": "code",
   "execution_count": 26,
   "id": "fb010436",
   "metadata": {},
   "outputs": [
    {
     "data": {
      "text/plain": [
       "'enotsdnaS'"
      ]
     },
     "execution_count": 26,
     "metadata": {},
     "output_type": "execute_result"
    }
   ],
   "source": [
    "rock_name[ : : -1]"
   ]
  },
  {
   "cell_type": "code",
   "execution_count": 27,
   "id": "5f632671",
   "metadata": {},
   "outputs": [
    {
     "data": {
      "text/plain": [
       "'enotsdnaS'"
      ]
     },
     "execution_count": 27,
     "metadata": {},
     "output_type": "execute_result"
    }
   ],
   "source": [
    "rock_name[-1 : : -1]"
   ]
  },
  {
   "cell_type": "code",
   "execution_count": 28,
   "id": "fb44517a",
   "metadata": {},
   "outputs": [
    {
     "data": {
      "text/plain": [
       "'Sandstone'"
      ]
     },
     "execution_count": 28,
     "metadata": {},
     "output_type": "execute_result"
    }
   ],
   "source": [
    "rock_name"
   ]
  },
  {
   "cell_type": "markdown",
   "id": "9f5a756e",
   "metadata": {},
   "source": [
    "Q : Pallindrome check "
   ]
  },
  {
   "cell_type": "code",
   "execution_count": 29,
   "id": "da7f40de",
   "metadata": {},
   "outputs": [],
   "source": [
    "name = 'NAMAN'"
   ]
  },
  {
   "cell_type": "code",
   "execution_count": 30,
   "id": "f48157a9",
   "metadata": {},
   "outputs": [],
   "source": [
    "myNewString = 'ABCDEF'"
   ]
  },
  {
   "cell_type": "code",
   "execution_count": 33,
   "id": "9508f75e",
   "metadata": {},
   "outputs": [
    {
     "data": {
      "text/plain": [
       "('F', 'E', 'D')"
      ]
     },
     "execution_count": 33,
     "metadata": {},
     "output_type": "execute_result"
    }
   ],
   "source": [
    "myNewString[-1] , myNewString[-2] , myNewString[-3]"
   ]
  },
  {
   "cell_type": "code",
   "execution_count": 36,
   "id": "483dcb45",
   "metadata": {},
   "outputs": [
    {
     "data": {
      "text/plain": [
       "'FDB'"
      ]
     },
     "execution_count": 36,
     "metadata": {},
     "output_type": "execute_result"
    }
   ],
   "source": [
    "myNewString[-1 : : -2]"
   ]
  },
  {
   "cell_type": "code",
   "execution_count": 37,
   "id": "bcf3e4fd",
   "metadata": {},
   "outputs": [
    {
     "data": {
      "text/plain": [
       "'NAMAN'"
      ]
     },
     "execution_count": 37,
     "metadata": {},
     "output_type": "execute_result"
    }
   ],
   "source": [
    "name"
   ]
  },
  {
   "cell_type": "code",
   "execution_count": 44,
   "id": "cb115850",
   "metadata": {},
   "outputs": [
    {
     "data": {
      "text/plain": [
       "'NAMAN'"
      ]
     },
     "execution_count": 44,
     "metadata": {},
     "output_type": "execute_result"
    }
   ],
   "source": [
    "name = 'NAMAN'\n",
    "\n",
    "name_reversed = name[-1 : : -1]\n",
    "\n",
    "name_reversed"
   ]
  },
  {
   "cell_type": "code",
   "execution_count": 45,
   "id": "db768e11",
   "metadata": {},
   "outputs": [
    {
     "data": {
      "text/plain": [
       "True"
      ]
     },
     "execution_count": 45,
     "metadata": {},
     "output_type": "execute_result"
    }
   ],
   "source": [
    "name_reversed == name"
   ]
  },
  {
   "cell_type": "code",
   "execution_count": 46,
   "id": "1f37736f",
   "metadata": {},
   "outputs": [
    {
     "data": {
      "text/plain": [
       "True"
      ]
     },
     "execution_count": 46,
     "metadata": {},
     "output_type": "execute_result"
    }
   ],
   "source": [
    "name[-1 : : -1] == name"
   ]
  },
  {
   "cell_type": "markdown",
   "id": "ec5444b9",
   "metadata": {},
   "source": [
    "Doubt"
   ]
  },
  {
   "cell_type": "code",
   "execution_count": 50,
   "id": "e4e86ddc",
   "metadata": {},
   "outputs": [
    {
     "data": {
      "text/plain": [
       "'Sandstone'"
      ]
     },
     "execution_count": 50,
     "metadata": {},
     "output_type": "execute_result"
    }
   ],
   "source": [
    "rock_name"
   ]
  },
  {
   "cell_type": "code",
   "execution_count": 54,
   "id": "c6773460",
   "metadata": {},
   "outputs": [
    {
     "data": {
      "text/plain": [
       "('enotsdnaS', 'enotsdnaS')"
      ]
     },
     "execution_count": 54,
     "metadata": {},
     "output_type": "execute_result"
    }
   ],
   "source": [
    "rock_name[ : : -1] , rock_name[ -1 : : -1]"
   ]
  },
  {
   "cell_type": "markdown",
   "id": "99969fa6",
   "metadata": {},
   "source": [
    "#### Other ways to create a string"
   ]
  },
  {
   "cell_type": "code",
   "execution_count": 56,
   "id": "3f55cee7",
   "metadata": {},
   "outputs": [
    {
     "data": {
      "text/plain": [
       "'Divyanshu Vyas'"
      ]
     },
     "execution_count": 56,
     "metadata": {},
     "output_type": "execute_result"
    }
   ],
   "source": [
    "fullname = \"Divyanshu\" + \" \" + \"Vyas\"\n",
    "\n",
    "fullname"
   ]
  },
  {
   "cell_type": "code",
   "execution_count": 57,
   "id": "6b5a6cc1",
   "metadata": {},
   "outputs": [
    {
     "name": "stdout",
     "output_type": "stream",
     "text": [
      "Divyanshu Vyas\n"
     ]
    }
   ],
   "source": [
    "firstname = 'Divyanshu' \n",
    "secname = 'Vyas'\n",
    "seperator = ' '\n",
    "\n",
    "\n",
    "fullname = firstname + seperator + secname\n",
    "\n",
    "print(fullname)"
   ]
  },
  {
   "cell_type": "markdown",
   "id": "66ebbdf6",
   "metadata": {},
   "source": [
    "To include other variable info in a string"
   ]
  },
  {
   "cell_type": "code",
   "execution_count": 80,
   "id": "90f11ca8",
   "metadata": {},
   "outputs": [
    {
     "data": {
      "text/plain": [
       "'The rock name is {rock_name} , Porosity is {poro} % and Perm is perm md and this is a list mylist'"
      ]
     },
     "execution_count": 80,
     "metadata": {},
     "output_type": "execute_result"
    }
   ],
   "source": [
    "rock_name = 'SST'\n",
    "\n",
    "poro = 25\n",
    "\n",
    "perm = 1000\n",
    "\n",
    "mylist = [0,1,2]\n",
    "\n",
    "\n",
    "final_rock_status = f'The rock name is {rock_name} , Porosity is {poro} % and Perm is perm md and this is a list mylist'\n",
    "# rock_status\n",
    "\n",
    "final_rock_status"
   ]
  },
  {
   "cell_type": "code",
   "execution_count": 59,
   "id": "43becffb",
   "metadata": {},
   "outputs": [
    {
     "data": {
      "text/plain": [
       "'The rock name is SST , Porosity is 25 % and Perm is 175 md'"
      ]
     },
     "execution_count": 59,
     "metadata": {},
     "output_type": "execute_result"
    }
   ],
   "source": [
    "'The rock name is SST , Porosity is 25 % and Perm is 175 md'"
   ]
  },
  {
   "cell_type": "markdown",
   "id": "e91710cc",
   "metadata": {},
   "source": [
    "### f-Strings - formatted strings."
   ]
  },
  {
   "cell_type": "code",
   "execution_count": 72,
   "id": "00f68e14",
   "metadata": {},
   "outputs": [
    {
     "data": {
      "text/plain": [
       "'The value of x is x'"
      ]
     },
     "execution_count": 72,
     "metadata": {},
     "output_type": "execute_result"
    }
   ],
   "source": [
    "X = 30000\n",
    "Y = 5000\n",
    "\n",
    "'The value of x is x'"
   ]
  },
  {
   "cell_type": "code",
   "execution_count": 73,
   "id": "fb0bf667",
   "metadata": {},
   "outputs": [
    {
     "data": {
      "text/plain": [
       "'The value of x is 30000'"
      ]
     },
     "execution_count": 73,
     "metadata": {},
     "output_type": "execute_result"
    }
   ],
   "source": [
    "f'The value of x is {X}'"
   ]
  },
  {
   "cell_type": "code",
   "execution_count": 74,
   "id": "a1d6cc9a",
   "metadata": {},
   "outputs": [
    {
     "name": "stdout",
     "output_type": "stream",
     "text": [
      "The value of x is 30000 \n",
      "The value of y is 5000\n"
     ]
    }
   ],
   "source": [
    "print(f'The value of x is {X} \\nThe value of y is {Y}')"
   ]
  },
  {
   "cell_type": "markdown",
   "id": "9b8c1fb6",
   "metadata": {},
   "source": [
    "Example of fstrings"
   ]
  },
  {
   "cell_type": "code",
   "execution_count": 82,
   "id": "f2593424",
   "metadata": {},
   "outputs": [],
   "source": [
    "my_poros = [25 , 21]\n",
    "\n",
    "my_perms = [120 , 175]\n",
    "\n",
    "liths = ['SSTA' , 'SSTB']"
   ]
  },
  {
   "cell_type": "code",
   "execution_count": 84,
   "id": "6259ce51",
   "metadata": {},
   "outputs": [
    {
     "data": {
      "text/plain": [
       "'Hey! my porosities list is : [25 , 21]. \\n my perms list is [120 , 175]'"
      ]
     },
     "execution_count": 84,
     "metadata": {},
     "output_type": "execute_result"
    }
   ],
   "source": [
    "#Example 1\n",
    "'Hey! my porosities list is : [25 , 21]. \\n my perms list is [120 , 175]'"
   ]
  },
  {
   "cell_type": "code",
   "execution_count": 88,
   "id": "64cafe4f",
   "metadata": {},
   "outputs": [
    {
     "name": "stdout",
     "output_type": "stream",
     "text": [
      "Hey! my porosities list is : [25, 21]. \n",
      " my perms list is : [120, 175]\n"
     ]
    }
   ],
   "source": [
    "print(f'Hey! my porosities list is : {my_poros}. \\n my perms list is : {my_perms}')"
   ]
  },
  {
   "cell_type": "code",
   "execution_count": 92,
   "id": "cad1c642",
   "metadata": {},
   "outputs": [
    {
     "data": {
      "text/plain": [
       "'The porosity of SSTA is 25 and the perm of SSTA is 120'"
      ]
     },
     "execution_count": 92,
     "metadata": {},
     "output_type": "execute_result"
    }
   ],
   "source": [
    "#Example 2\n",
    "\n",
    "idx_no = 1\n",
    "\n",
    "'The porosity of SSTA is 25 and the perm of SSTA is 120'"
   ]
  },
  {
   "cell_type": "code",
   "execution_count": 94,
   "id": "f36c8f60",
   "metadata": {},
   "outputs": [
    {
     "name": "stdout",
     "output_type": "stream",
     "text": [
      "The porosity of SSTB is 21 \n",
      " and the perms of SSTA is 175\n"
     ]
    }
   ],
   "source": [
    "#audience's answer\n",
    "print(f'The porosity of {liths[idx_no]} is {my_poros[idx_no]} \\n and the perms of SSTA is {my_perms[idx_no]}')"
   ]
  },
  {
   "cell_type": "code",
   "execution_count": 100,
   "id": "06904851",
   "metadata": {},
   "outputs": [
    {
     "name": "stdout",
     "output_type": "stream",
     "text": [
      "The porosity of LSTA is 10 \n",
      " and the perms of LSTA is 30\n"
     ]
    }
   ],
   "source": [
    "my_poros = [25 , 21 , 10]\n",
    "\n",
    "my_perms = [120 , 175, 30]\n",
    "\n",
    "liths = ['SSTA' , 'SSTB', 'LSTA']\n",
    "\n",
    "idx_no = 2\n",
    "\n",
    "print(f'The porosity of {liths[idx_no]} is {my_poros[idx_no]} \\n and the perms of {liths[idx_no]} is {my_perms[idx_no]}')"
   ]
  },
  {
   "cell_type": "code",
   "execution_count": 99,
   "id": "43bc464e",
   "metadata": {},
   "outputs": [
    {
     "ename": "TypeError",
     "evalue": "'int' object is not subscriptable",
     "output_type": "error",
     "traceback": [
      "\u001b[1;31m---------------------------------------------------------------------------\u001b[0m",
      "\u001b[1;31mTypeError\u001b[0m                                 Traceback (most recent call last)",
      "\u001b[1;32m~\\AppData\\Local\\Temp/ipykernel_15284/26364118.py\u001b[0m in \u001b[0;36m<module>\u001b[1;34m\u001b[0m\n\u001b[0;32m      1\u001b[0m \u001b[0mporo\u001b[0m \u001b[1;33m=\u001b[0m \u001b[1;36m25\u001b[0m\u001b[1;33m\u001b[0m\u001b[1;33m\u001b[0m\u001b[0m\n\u001b[0;32m      2\u001b[0m \u001b[1;33m\u001b[0m\u001b[0m\n\u001b[1;32m----> 3\u001b[1;33m \u001b[0mporo\u001b[0m\u001b[1;33m[\u001b[0m\u001b[1;36m0\u001b[0m\u001b[1;33m]\u001b[0m\u001b[1;33m\u001b[0m\u001b[1;33m\u001b[0m\u001b[0m\n\u001b[0m",
      "\u001b[1;31mTypeError\u001b[0m: 'int' object is not subscriptable"
     ]
    }
   ],
   "source": [
    "poro = 25\n",
    "\n",
    "poro[0]"
   ]
  },
  {
   "cell_type": "markdown",
   "id": "f3d226d1",
   "metadata": {},
   "source": [
    "---"
   ]
  },
  {
   "cell_type": "markdown",
   "id": "f888bc44",
   "metadata": {},
   "source": [
    "**Other functionalities on a string**"
   ]
  },
  {
   "cell_type": "code",
   "execution_count": 103,
   "id": "67e1c28b",
   "metadata": {},
   "outputs": [],
   "source": [
    "my_field_name = 'cambay'"
   ]
  },
  {
   "cell_type": "code",
   "execution_count": 104,
   "id": "93ffc241",
   "metadata": {},
   "outputs": [
    {
     "data": {
      "text/plain": [
       "'Cambay'"
      ]
     },
     "execution_count": 104,
     "metadata": {},
     "output_type": "execute_result"
    }
   ],
   "source": [
    "my_field_name.capitalize()"
   ]
  },
  {
   "cell_type": "code",
   "execution_count": 107,
   "id": "3914ed3c",
   "metadata": {},
   "outputs": [
    {
     "data": {
      "text/plain": [
       "False"
      ]
     },
     "execution_count": 107,
     "metadata": {},
     "output_type": "execute_result"
    }
   ],
   "source": [
    "my_field_name.endswith('x')"
   ]
  },
  {
   "cell_type": "code",
   "execution_count": 108,
   "id": "ac98d938",
   "metadata": {},
   "outputs": [
    {
     "data": {
      "text/plain": [
       "6"
      ]
     },
     "execution_count": 108,
     "metadata": {},
     "output_type": "execute_result"
    }
   ],
   "source": [
    "len(my_field_name)"
   ]
  },
  {
   "cell_type": "code",
   "execution_count": 109,
   "id": "84b90ff1",
   "metadata": {},
   "outputs": [
    {
     "data": {
      "text/plain": [
       "True"
      ]
     },
     "execution_count": 109,
     "metadata": {},
     "output_type": "execute_result"
    }
   ],
   "source": [
    "my_field_name.isalnum()"
   ]
  },
  {
   "cell_type": "code",
   "execution_count": 110,
   "id": "070948ae",
   "metadata": {},
   "outputs": [
    {
     "data": {
      "text/plain": [
       "1"
      ]
     },
     "execution_count": 110,
     "metadata": {},
     "output_type": "execute_result"
    }
   ],
   "source": [
    "my_field_name.find('a')"
   ]
  },
  {
   "cell_type": "code",
   "execution_count": 111,
   "id": "d2e03115",
   "metadata": {},
   "outputs": [],
   "source": [
    "my_rocky_list = 'SSTA SSTB LSTA LSTB'"
   ]
  },
  {
   "cell_type": "code",
   "execution_count": 112,
   "id": "4deb28cb",
   "metadata": {},
   "outputs": [
    {
     "data": {
      "text/plain": [
       "['SSTA', 'SSTB', 'LSTA', 'LSTB']"
      ]
     },
     "execution_count": 112,
     "metadata": {},
     "output_type": "execute_result"
    }
   ],
   "source": [
    "['SSTA', 'SSTB', 'LSTA', 'LSTB']"
   ]
  },
  {
   "cell_type": "code",
   "execution_count": 113,
   "id": "2a02e336",
   "metadata": {},
   "outputs": [
    {
     "data": {
      "text/plain": [
       "['SSTA', 'SSTB', 'LSTA', 'LSTB']"
      ]
     },
     "execution_count": 113,
     "metadata": {},
     "output_type": "execute_result"
    }
   ],
   "source": [
    "my_rocky_list.split(' ')"
   ]
  },
  {
   "cell_type": "code",
   "execution_count": 114,
   "id": "23f8e9ad",
   "metadata": {},
   "outputs": [],
   "source": [
    "myFullName = 'Divyanshu D. Vyas'"
   ]
  },
  {
   "cell_type": "code",
   "execution_count": 119,
   "id": "e9710eb4",
   "metadata": {},
   "outputs": [
    {
     "data": {
      "text/plain": [
       "'Vyas'"
      ]
     },
     "execution_count": 119,
     "metadata": {},
     "output_type": "execute_result"
    }
   ],
   "source": [
    "my_name_components = myFullName.split(' ')\n",
    "\n",
    "\n",
    "myFname = my_name_components[0]\n",
    "myMname = my_name_components[1]\n",
    "myLname = my_name_components[-1]\n",
    "\n",
    "myLname"
   ]
  },
  {
   "cell_type": "markdown",
   "id": "8b3cbf67",
   "metadata": {},
   "source": [
    "**NLP : Natural Language Processing : Text processing**"
   ]
  },
  {
   "cell_type": "code",
   "execution_count": 121,
   "id": "f7100445",
   "metadata": {},
   "outputs": [],
   "source": [
    "rock_status = 'MyRockPoro_25_MyRockPerm_175_MyRockLith_SST'"
   ]
  },
  {
   "cell_type": "code",
   "execution_count": 122,
   "id": "c6449e84",
   "metadata": {},
   "outputs": [
    {
     "data": {
      "text/plain": [
       "['MyRockPoro', 25, 'MyRockPerm', 175, 'MyRockLith', 'SST']"
      ]
     },
     "execution_count": 122,
     "metadata": {},
     "output_type": "execute_result"
    }
   ],
   "source": [
    "['MyRockPoro', 25 , 'MyRockPerm', 175 , 'MyRockLith', 'SST']"
   ]
  },
  {
   "cell_type": "code",
   "execution_count": 126,
   "id": "064db9e0",
   "metadata": {},
   "outputs": [
    {
     "data": {
      "text/plain": [
       "['MyRockPoro', '25', 'MyRockPerm', '175', 'MyRockLith', 'SST']"
      ]
     },
     "execution_count": 126,
     "metadata": {},
     "output_type": "execute_result"
    }
   ],
   "source": [
    "rock_status_mutable = rock_status.split('_')\n",
    "\n",
    "rock_status_mutable"
   ]
  },
  {
   "cell_type": "code",
   "execution_count": 128,
   "id": "6a279f6d",
   "metadata": {},
   "outputs": [],
   "source": [
    "#replace by changing to int\n",
    "\n",
    "rock_status_mutable[1] = int(rock_status_mutable[1])\n",
    "\n",
    "rock_status_mutable[3] = int(rock_status_mutable[3])"
   ]
  },
  {
   "cell_type": "code",
   "execution_count": 129,
   "id": "95251e21",
   "metadata": {},
   "outputs": [
    {
     "data": {
      "text/plain": [
       "['MyRockPoro', 25, 'MyRockPerm', 175, 'MyRockLith', 'SST']"
      ]
     },
     "execution_count": 129,
     "metadata": {},
     "output_type": "execute_result"
    }
   ],
   "source": [
    "rock_status_mutable"
   ]
  },
  {
   "cell_type": "markdown",
   "id": "4e5fee8c",
   "metadata": {},
   "source": [
    "---"
   ]
  },
  {
   "cell_type": "markdown",
   "id": "66a56d19",
   "metadata": {},
   "source": [
    "### End -----"
   ]
  },
  {
   "cell_type": "markdown",
   "id": "8378a7a7",
   "metadata": {},
   "source": [
    "**Next up - Tuples | Sets | Dictionaries**"
   ]
  },
  {
   "cell_type": "code",
   "execution_count": null,
   "id": "a2e3cad7",
   "metadata": {},
   "outputs": [],
   "source": []
  }
 ],
 "metadata": {
  "kernelspec": {
   "display_name": "Python 3 (ipykernel)",
   "language": "python",
   "name": "python3"
  },
  "language_info": {
   "codemirror_mode": {
    "name": "ipython",
    "version": 3
   },
   "file_extension": ".py",
   "mimetype": "text/x-python",
   "name": "python",
   "nbconvert_exporter": "python",
   "pygments_lexer": "ipython3",
   "version": "3.9.7"
  }
 },
 "nbformat": 4,
 "nbformat_minor": 5
}
