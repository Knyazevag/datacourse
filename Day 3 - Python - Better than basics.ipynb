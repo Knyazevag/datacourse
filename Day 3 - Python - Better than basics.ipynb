{
 "cells": [
  {
   "cell_type": "markdown",
   "id": "91ce398a",
   "metadata": {},
   "source": [
    "### Agenda \n",
    "\n",
    "1. Data Structures \n",
    "\n",
    "- Lists\n",
    "- Indexing\n",
    "- Slicing\n",
    "- Mutability of Lists\n",
    "\n",
    "\n",
    "---Not covered---\n",
    "\n",
    "2. If Else Statements - \"Flow of Control\" \n",
    "\n",
    "3. Raising Exceptions - try and except."
   ]
  },
  {
   "cell_type": "markdown",
   "id": "70bc6be7",
   "metadata": {},
   "source": [
    "## 1. Lists : ```[a , b , 100 , 200, 0.5]```\n",
    "\n",
    "> enclosed in a square bracket."
   ]
  },
  {
   "cell_type": "code",
   "execution_count": 2,
   "id": "50a046bb",
   "metadata": {},
   "outputs": [
    {
     "data": {
      "text/plain": [
       "[1, 2, 3]"
      ]
     },
     "execution_count": 2,
     "metadata": {},
     "output_type": "execute_result"
    }
   ],
   "source": [
    "#Approach 1 : use the keyword list\n",
    "list([1,2,3])"
   ]
  },
  {
   "cell_type": "code",
   "execution_count": 3,
   "id": "9421f5dc",
   "metadata": {},
   "outputs": [
    {
     "data": {
      "text/plain": [
       "[1, 2, 3]"
      ]
     },
     "execution_count": 3,
     "metadata": {},
     "output_type": "execute_result"
    }
   ],
   "source": [
    "# Approach 2 : Simple [ ]\n",
    "[1,2,3]"
   ]
  },
  {
   "cell_type": "code",
   "execution_count": 4,
   "id": "044d2aa0",
   "metadata": {},
   "outputs": [
    {
     "data": {
      "text/plain": [
       "[1, 2, 3.0, 5.55, 1000, 'Hey']"
      ]
     },
     "execution_count": 4,
     "metadata": {},
     "output_type": "execute_result"
    }
   ],
   "source": [
    "[1,2,3.0, 5.55, 1000, 'Hey']"
   ]
  },
  {
   "cell_type": "markdown",
   "id": "f55ce6ed",
   "metadata": {},
   "source": [
    "**CAUTION : lists are slow in python**"
   ]
  },
  {
   "cell_type": "markdown",
   "id": "3fb7e141",
   "metadata": {},
   "source": [
    "```range(N) : creates a list of numbers from 0 to N-1 , but it is a hidden list```\n",
    "\n",
    "To convert range to list : type cast it : ```list(range(N)```"
   ]
  },
  {
   "cell_type": "code",
   "execution_count": 12,
   "id": "59d9fe33",
   "metadata": {},
   "outputs": [
    {
     "data": {
      "text/plain": [
       "(range, list)"
      ]
     },
     "execution_count": 12,
     "metadata": {},
     "output_type": "execute_result"
    }
   ],
   "source": [
    "type(range(5)) , type(list(range(5)))"
   ]
  },
  {
   "cell_type": "code",
   "execution_count": 9,
   "id": "234e1365",
   "metadata": {},
   "outputs": [
    {
     "name": "stdout",
     "output_type": "stream",
     "text": [
      "[1, 2, 3, 4, 5, 6, 7, 8, 9, 10, 11, 12, 13, 14, 15, 16, 17, 18, 19, 20, 21, 22, 23, 24, 25, 26, 27, 28, 29, 30, 31, 32, 33, 34, 35, 36, 37, 38, 39, 40, 41, 42, 43, 44, 45, 46, 47, 48, 49, 50, 51, 52, 53, 54, 55, 56, 57, 58, 59, 60, 61, 62, 63, 64, 65, 66, 67, 68, 69, 70, 71, 72, 73, 74, 75, 76, 77, 78, 79, 80, 81, 82, 83, 84, 85, 86, 87, 88, 89, 90, 91, 92, 93, 94, 95, 96, 97, 98, 99, 100]\n"
     ]
    }
   ],
   "source": [
    "print(list(range(1,100+1)))"
   ]
  },
  {
   "cell_type": "code",
   "execution_count": 13,
   "id": "8103ccf2",
   "metadata": {},
   "outputs": [
    {
     "data": {
      "text/plain": [
       "[5, 6, 7, 8, 9, 10, 11]"
      ]
     },
     "execution_count": 13,
     "metadata": {},
     "output_type": "execute_result"
    }
   ],
   "source": [
    "list(range(5,12))"
   ]
  },
  {
   "cell_type": "code",
   "execution_count": 14,
   "id": "081df44d",
   "metadata": {},
   "outputs": [
    {
     "ename": "TypeError",
     "evalue": "'float' object cannot be interpreted as an integer",
     "output_type": "error",
     "traceback": [
      "\u001b[1;31m---------------------------------------------------------------------------\u001b[0m",
      "\u001b[1;31mTypeError\u001b[0m                                 Traceback (most recent call last)",
      "\u001b[1;32m~\\AppData\\Local\\Temp/ipykernel_18844/680733598.py\u001b[0m in \u001b[0;36m<module>\u001b[1;34m\u001b[0m\n\u001b[1;32m----> 1\u001b[1;33m \u001b[0mrange\u001b[0m\u001b[1;33m(\u001b[0m\u001b[1;36m1.5\u001b[0m\u001b[1;33m)\u001b[0m\u001b[1;33m\u001b[0m\u001b[1;33m\u001b[0m\u001b[0m\n\u001b[0m",
      "\u001b[1;31mTypeError\u001b[0m: 'float' object cannot be interpreted as an integer"
     ]
    }
   ],
   "source": [
    "range(1.5)"
   ]
  },
  {
   "cell_type": "markdown",
   "id": "eed57848",
   "metadata": {},
   "source": [
    "Assigning a list to a variable"
   ]
  },
  {
   "cell_type": "code",
   "execution_count": 19,
   "id": "385269cf",
   "metadata": {},
   "outputs": [],
   "source": [
    "sst1_porosities = [0.23 , 0.22, 0.25, 0.29]\n",
    "sst1_permeabilites = [110 , 105 , 170 , 230]"
   ]
  },
  {
   "cell_type": "markdown",
   "id": "56a1b384",
   "metadata": {},
   "source": [
    "Checking length of a list"
   ]
  },
  {
   "cell_type": "code",
   "execution_count": 16,
   "id": "90cc7619",
   "metadata": {},
   "outputs": [
    {
     "data": {
      "text/plain": [
       "4"
      ]
     },
     "execution_count": 16,
     "metadata": {},
     "output_type": "execute_result"
    }
   ],
   "source": [
    "len(sst1_porosities)"
   ]
  },
  {
   "cell_type": "code",
   "execution_count": 20,
   "id": "ab5e6f93",
   "metadata": {},
   "outputs": [
    {
     "data": {
      "text/plain": [
       "True"
      ]
     },
     "execution_count": 20,
     "metadata": {},
     "output_type": "execute_result"
    }
   ],
   "source": [
    "# To compare : ==\n",
    "\n",
    "len(sst1_porosities) == len(sst1_permeabilites)"
   ]
  },
  {
   "cell_type": "code",
   "execution_count": 18,
   "id": "7891f4a2",
   "metadata": {},
   "outputs": [
    {
     "data": {
      "text/plain": [
       "(4, 4)"
      ]
     },
     "execution_count": 18,
     "metadata": {},
     "output_type": "execute_result"
    }
   ],
   "source": [
    "len(sst1_porosities) , len(sst1_perms)"
   ]
  },
  {
   "cell_type": "markdown",
   "id": "bb7a5967",
   "metadata": {},
   "source": [
    "**A list is an ORDERED arrangement of numbers**\n",
    "\n",
    "> roll number ~ ```index```\n",
    "\n",
    "> in Python : index begins at 0"
   ]
  },
  {
   "cell_type": "code",
   "execution_count": 22,
   "id": "92c55809",
   "metadata": {},
   "outputs": [
    {
     "data": {
      "text/plain": [
       "0.22"
      ]
     },
     "execution_count": 22,
     "metadata": {},
     "output_type": "execute_result"
    }
   ],
   "source": [
    "roll_no = 1\n",
    "\n",
    "sst1_porosities[roll_no]"
   ]
  },
  {
   "cell_type": "markdown",
   "id": "dd2bd1f8",
   "metadata": {},
   "source": [
    "``` The rollno (index no) for the Nth element in a list : N-1 ```"
   ]
  },
  {
   "cell_type": "code",
   "execution_count": 24,
   "id": "5d73d3ca",
   "metadata": {},
   "outputs": [],
   "source": [
    "list1 = list(range(1,101))"
   ]
  },
  {
   "cell_type": "code",
   "execution_count": 25,
   "id": "2cfddaf4",
   "metadata": {},
   "outputs": [
    {
     "data": {
      "text/plain": [
       "98"
      ]
     },
     "execution_count": 25,
     "metadata": {},
     "output_type": "execute_result"
    }
   ],
   "source": [
    "position = 98\n",
    "\n",
    "index_no = position - 1\n",
    "\n",
    "list1[index_no]"
   ]
  },
  {
   "cell_type": "markdown",
   "id": "dddb69cd",
   "metadata": {},
   "source": [
    "```Position number 1 is index number 0``\n",
    "\n",
    "```Position number N is index number N - 1```"
   ]
  },
  {
   "cell_type": "code",
   "execution_count": 26,
   "id": "249e8615",
   "metadata": {},
   "outputs": [],
   "source": [
    "list2 = list(range(101,201))"
   ]
  },
  {
   "cell_type": "markdown",
   "id": "c682589a",
   "metadata": {},
   "source": [
    "Q : What is the element at : Index number 150\n",
    "\n",
    "> Error"
   ]
  },
  {
   "cell_type": "code",
   "execution_count": 27,
   "id": "5bb67c4f",
   "metadata": {},
   "outputs": [
    {
     "data": {
      "text/plain": [
       "100"
      ]
     },
     "execution_count": 27,
     "metadata": {},
     "output_type": "execute_result"
    }
   ],
   "source": [
    "len(list2)"
   ]
  },
  {
   "cell_type": "code",
   "execution_count": 28,
   "id": "e3bfa065",
   "metadata": {},
   "outputs": [
    {
     "ename": "IndexError",
     "evalue": "list index out of range",
     "output_type": "error",
     "traceback": [
      "\u001b[1;31m---------------------------------------------------------------------------\u001b[0m",
      "\u001b[1;31mIndexError\u001b[0m                                Traceback (most recent call last)",
      "\u001b[1;32m~\\AppData\\Local\\Temp/ipykernel_18844/661865756.py\u001b[0m in \u001b[0;36m<module>\u001b[1;34m\u001b[0m\n\u001b[1;32m----> 1\u001b[1;33m \u001b[0mlist2\u001b[0m\u001b[1;33m[\u001b[0m\u001b[1;36m150\u001b[0m\u001b[1;33m]\u001b[0m\u001b[1;33m\u001b[0m\u001b[1;33m\u001b[0m\u001b[0m\n\u001b[0m",
      "\u001b[1;31mIndexError\u001b[0m: list index out of range"
     ]
    }
   ],
   "source": [
    "list2[150]"
   ]
  },
  {
   "cell_type": "code",
   "execution_count": 30,
   "id": "de80cf74",
   "metadata": {},
   "outputs": [
    {
     "data": {
      "text/plain": [
       "151"
      ]
     },
     "execution_count": 30,
     "metadata": {},
     "output_type": "execute_result"
    }
   ],
   "source": [
    "index_no = 50\n",
    "position_no = 50 + 1\n",
    "\n",
    "list2[index_no]"
   ]
  },
  {
   "cell_type": "markdown",
   "id": "76d4fe36",
   "metadata": {},
   "source": [
    "#### Slicing and indexing in a list\n",
    "\n",
    "**Accessing values from a string**\n",
    "\n",
    "```mylist[start_index : stop_index : step]```\n",
    "\n",
    "> stop_index is not included | start_index is included"
   ]
  },
  {
   "cell_type": "code",
   "execution_count": 31,
   "id": "6582840a",
   "metadata": {},
   "outputs": [
    {
     "name": "stdout",
     "output_type": "stream",
     "text": [
      "[101, 102, 103, 104, 105, 106, 107, 108, 109, 110, 111, 112, 113, 114, 115, 116, 117, 118, 119, 120, 121, 122, 123, 124, 125, 126, 127, 128, 129, 130, 131, 132, 133, 134, 135, 136, 137, 138, 139, 140, 141, 142, 143, 144, 145, 146, 147, 148, 149, 150, 151, 152, 153, 154, 155, 156, 157, 158, 159, 160, 161, 162, 163, 164, 165, 166, 167, 168, 169, 170, 171, 172, 173, 174, 175, 176, 177, 178, 179, 180, 181, 182, 183, 184, 185, 186, 187, 188, 189, 190, 191, 192, 193, 194, 195, 196, 197, 198, 199, 200]\n"
     ]
    }
   ],
   "source": [
    "print(list2)"
   ]
  },
  {
   "cell_type": "markdown",
   "id": "1abb8fdd",
   "metadata": {},
   "source": [
    "Q1 : Slice out elements from index range : 51 to 71"
   ]
  },
  {
   "cell_type": "code",
   "execution_count": 37,
   "id": "9b2b6920",
   "metadata": {},
   "outputs": [
    {
     "name": "stdout",
     "output_type": "stream",
     "text": [
      "[152, 153, 154, 155, 156, 157, 158, 159, 160, 161, 162, 163, 164, 165, 166, 167, 168, 169, 170, 171, 172]\n"
     ]
    }
   ],
   "source": [
    "st_idx = 51\n",
    "end_idx = 71\n",
    "\n",
    "print(list2[st_idx:end_idx +1: ])"
   ]
  },
  {
   "cell_type": "code",
   "execution_count": 36,
   "id": "8d5b021e",
   "metadata": {},
   "outputs": [
    {
     "name": "stdout",
     "output_type": "stream",
     "text": [
      "172\n"
     ]
    }
   ],
   "source": [
    "print(list2[71])"
   ]
  },
  {
   "cell_type": "code",
   "execution_count": 38,
   "id": "a1e6adf5",
   "metadata": {},
   "outputs": [
    {
     "data": {
      "text/plain": [
       "[1, 2, 3, 4, 5, 6, 7, 8, 9, 10]"
      ]
     },
     "execution_count": 38,
     "metadata": {},
     "output_type": "execute_result"
    }
   ],
   "source": [
    "list3 = list(range(1,11))\n",
    "\n",
    "list3"
   ]
  },
  {
   "cell_type": "code",
   "execution_count": 39,
   "id": "b6dbbf8d",
   "metadata": {},
   "outputs": [
    {
     "data": {
      "text/plain": [
       "[3, 4, 5, 6, 7, 8]"
      ]
     },
     "execution_count": 39,
     "metadata": {},
     "output_type": "execute_result"
    }
   ],
   "source": [
    "st_idx = 2\n",
    "stop_idx = 7\n",
    "\n",
    "list3[st_idx : stop_idx+1]"
   ]
  },
  {
   "cell_type": "markdown",
   "id": "700b1683",
   "metadata": {},
   "source": [
    "```[a , b)``` ---> ```[a , b+1)``"
   ]
  },
  {
   "cell_type": "markdown",
   "id": "25ea0a9a",
   "metadata": {},
   "source": [
    "Q : st_idx = 4 and ending idx is : 9"
   ]
  },
  {
   "cell_type": "markdown",
   "id": "67cca83c",
   "metadata": {},
   "source": [
    "> Lets deal with the step parameter"
   ]
  },
  {
   "cell_type": "markdown",
   "id": "c84764cc",
   "metadata": {},
   "source": [
    "Q : i = 0 and f = 10 and print alternate elements only"
   ]
  },
  {
   "cell_type": "code",
   "execution_count": 40,
   "id": "26f05fb5",
   "metadata": {},
   "outputs": [
    {
     "data": {
      "text/plain": [
       "[1, 2, 3, 4, 5, 6, 7, 8, 9, 10]"
      ]
     },
     "execution_count": 40,
     "metadata": {},
     "output_type": "execute_result"
    }
   ],
   "source": [
    "list3"
   ]
  },
  {
   "cell_type": "code",
   "execution_count": 45,
   "id": "d2a9aded",
   "metadata": {},
   "outputs": [
    {
     "ename": "IndexError",
     "evalue": "list index out of range",
     "output_type": "error",
     "traceback": [
      "\u001b[1;31m---------------------------------------------------------------------------\u001b[0m",
      "\u001b[1;31mIndexError\u001b[0m                                Traceback (most recent call last)",
      "\u001b[1;32m~\\AppData\\Local\\Temp/ipykernel_18844/170231539.py\u001b[0m in \u001b[0;36m<module>\u001b[1;34m\u001b[0m\n\u001b[1;32m----> 1\u001b[1;33m \u001b[0mlist3\u001b[0m\u001b[1;33m[\u001b[0m\u001b[1;36m100\u001b[0m\u001b[1;33m]\u001b[0m\u001b[1;33m\u001b[0m\u001b[1;33m\u001b[0m\u001b[0m\n\u001b[0m",
      "\u001b[1;31mIndexError\u001b[0m: list index out of range"
     ]
    }
   ],
   "source": [
    "list3[100]"
   ]
  },
  {
   "cell_type": "code",
   "execution_count": 44,
   "id": "9f30b0d5",
   "metadata": {},
   "outputs": [
    {
     "data": {
      "text/plain": [
       "[1, 2, 3, 4, 5, 6, 7, 8, 9, 10]"
      ]
     },
     "execution_count": 44,
     "metadata": {},
     "output_type": "execute_result"
    }
   ],
   "source": [
    "list3[0 : 100+1 : ]"
   ]
  },
  {
   "cell_type": "code",
   "execution_count": 42,
   "id": "4c4f72ce",
   "metadata": {},
   "outputs": [
    {
     "data": {
      "text/plain": [
       "[1, 2, 3, 4, 5, 6, 7, 8, 9, 10]"
      ]
     },
     "execution_count": 42,
     "metadata": {},
     "output_type": "execute_result"
    }
   ],
   "source": [
    "list3[0 : 10+1 : 1]"
   ]
  },
  {
   "cell_type": "markdown",
   "id": "36192ce3",
   "metadata": {},
   "source": [
    "> By default the step size is 1"
   ]
  },
  {
   "cell_type": "code",
   "execution_count": 43,
   "id": "5ff83014",
   "metadata": {},
   "outputs": [
    {
     "data": {
      "text/plain": [
       "[1, 3, 5, 7, 9]"
      ]
     },
     "execution_count": 43,
     "metadata": {},
     "output_type": "execute_result"
    }
   ],
   "source": [
    "list3[0 : 10+1 : 2]"
   ]
  },
  {
   "cell_type": "code",
   "execution_count": 46,
   "id": "fe14cb2a",
   "metadata": {},
   "outputs": [],
   "source": [
    "list4 = list(range(1,21))"
   ]
  },
  {
   "cell_type": "code",
   "execution_count": 47,
   "id": "6ce69e64",
   "metadata": {},
   "outputs": [
    {
     "data": {
      "text/plain": [
       "[1, 2, 3, 4, 5, 6, 7, 8, 9, 10, 11, 12, 13, 14, 15, 16, 17, 18, 19, 20]"
      ]
     },
     "execution_count": 47,
     "metadata": {},
     "output_type": "execute_result"
    }
   ],
   "source": [
    "list4"
   ]
  },
  {
   "cell_type": "markdown",
   "id": "7a1e77fc",
   "metadata": {},
   "source": [
    "Q : in list 4 start at the first element and include the entire list : pick one drop 2."
   ]
  },
  {
   "cell_type": "code",
   "execution_count": 48,
   "id": "4bc24dea",
   "metadata": {},
   "outputs": [],
   "source": [
    "# [1 , 4 , 7 , 10 ...]"
   ]
  },
  {
   "cell_type": "code",
   "execution_count": 49,
   "id": "9bd39711",
   "metadata": {},
   "outputs": [
    {
     "data": {
      "text/plain": [
       "[1, 4, 7, 10, 13, 16, 19]"
      ]
     },
     "execution_count": 49,
     "metadata": {},
     "output_type": "execute_result"
    }
   ],
   "source": [
    "\n",
    "#Maaz\n",
    "list4[0 : 21+1 : 3]\n"
   ]
  },
  {
   "cell_type": "code",
   "execution_count": 50,
   "id": "ff99fc9d",
   "metadata": {},
   "outputs": [
    {
     "data": {
      "text/plain": [
       "[1, 4, 7, 10, 13, 16, 19]"
      ]
     },
     "execution_count": 50,
     "metadata": {},
     "output_type": "execute_result"
    }
   ],
   "source": [
    "#mythili\n",
    "list4[0:21:3]\n"
   ]
  },
  {
   "cell_type": "code",
   "execution_count": 51,
   "id": "808e3486",
   "metadata": {},
   "outputs": [
    {
     "data": {
      "text/plain": [
       "[1, 4, 7, 10, 13, 16, 19]"
      ]
     },
     "execution_count": 51,
     "metadata": {},
     "output_type": "execute_result"
    }
   ],
   "source": [
    "#chakshu\n",
    "list4[0:20:3]\n"
   ]
  },
  {
   "cell_type": "markdown",
   "id": "bc2f5f2d",
   "metadata": {},
   "source": [
    "**Lets deal with negative indices**\n",
    "\n",
    "> ```The last element is at index no : -1 ```"
   ]
  },
  {
   "cell_type": "code",
   "execution_count": 53,
   "id": "c23c497e",
   "metadata": {},
   "outputs": [
    {
     "data": {
      "text/plain": [
       "200"
      ]
     },
     "execution_count": 53,
     "metadata": {},
     "output_type": "execute_result"
    }
   ],
   "source": [
    "list2[-1]"
   ]
  },
  {
   "cell_type": "markdown",
   "id": "f2e90405",
   "metadata": {},
   "source": [
    "Q : in list 2 start at index -1 and use a step size of -1 and print."
   ]
  },
  {
   "cell_type": "code",
   "execution_count": 54,
   "id": "655c0c13",
   "metadata": {},
   "outputs": [
    {
     "name": "stdout",
     "output_type": "stream",
     "text": [
      "[101, 102, 103, 104, 105, 106, 107, 108, 109, 110, 111, 112, 113, 114, 115, 116, 117, 118, 119, 120, 121, 122, 123, 124, 125, 126, 127, 128, 129, 130, 131, 132, 133, 134, 135, 136, 137, 138, 139, 140, 141, 142, 143, 144, 145, 146, 147, 148, 149, 150, 151, 152, 153, 154, 155, 156, 157, 158, 159, 160, 161, 162, 163, 164, 165, 166, 167, 168, 169, 170, 171, 172, 173, 174, 175, 176, 177, 178, 179, 180, 181, 182, 183, 184, 185, 186, 187, 188, 189, 190, 191, 192, 193, 194, 195, 196, 197, 198, 199, 200]\n"
     ]
    }
   ],
   "source": [
    "print(list2)"
   ]
  },
  {
   "cell_type": "code",
   "execution_count": 56,
   "id": "450a46c1",
   "metadata": {},
   "outputs": [
    {
     "name": "stdout",
     "output_type": "stream",
     "text": [
      "[200, 199, 198, 197, 196, 195, 194, 193, 192, 191, 190, 189, 188, 187, 186, 185, 184, 183, 182, 181, 180, 179, 178, 177, 176, 175, 174, 173, 172, 171, 170, 169, 168, 167, 166, 165, 164, 163, 162, 161, 160, 159, 158, 157, 156, 155, 154, 153, 152, 151, 150, 149, 148, 147, 146, 145, 144, 143, 142, 141, 140, 139, 138, 137, 136, 135, 134, 133, 132, 131, 130, 129, 128, 127, 126, 125, 124, 123, 122, 121, 120, 119, 118, 117, 116, 115, 114, 113, 112, 111, 110, 109, 108, 107, 106, 105, 104, 103, 102, 101]\n"
     ]
    }
   ],
   "source": [
    "print(list2[-1 : : -1])"
   ]
  },
  {
   "cell_type": "code",
   "execution_count": 57,
   "id": "2caa06b5",
   "metadata": {},
   "outputs": [
    {
     "data": {
      "text/plain": [
       "True"
      ]
     },
     "execution_count": 57,
     "metadata": {},
     "output_type": "execute_result"
    }
   ],
   "source": [
    "list5 = [20, 30 , 30, 20]\n",
    "\n",
    "list5_reversed = list5[-1 : :-1]\n",
    "\n",
    "list5 == list5_reversed"
   ]
  },
  {
   "cell_type": "markdown",
   "id": "90fd4a2f",
   "metadata": {},
   "source": [
    "**List Methods : To work with lists**"
   ]
  },
  {
   "cell_type": "code",
   "execution_count": 58,
   "id": "b3caa37e",
   "metadata": {},
   "outputs": [
    {
     "data": {
      "text/plain": [
       "[0.23, 0.22, 0.25, 0.29]"
      ]
     },
     "execution_count": 58,
     "metadata": {},
     "output_type": "execute_result"
    }
   ],
   "source": [
    "sst1_porosities"
   ]
  },
  {
   "cell_type": "markdown",
   "id": "576a812a",
   "metadata": {},
   "source": [
    "> ## 1. Append : to the end"
   ]
  },
  {
   "cell_type": "markdown",
   "id": "34ef11b1",
   "metadata": {},
   "source": [
    "What if you have one more sample of sst1 and poro = 0.26 and perm = 135"
   ]
  },
  {
   "cell_type": "code",
   "execution_count": 59,
   "id": "4b78da50",
   "metadata": {},
   "outputs": [],
   "source": [
    "## append\n",
    "\n",
    "sst1_porosities.append(0.26)"
   ]
  },
  {
   "cell_type": "code",
   "execution_count": 60,
   "id": "9cd38cc1",
   "metadata": {},
   "outputs": [
    {
     "data": {
      "text/plain": [
       "[0.23, 0.22, 0.25, 0.29, 0.26]"
      ]
     },
     "execution_count": 60,
     "metadata": {},
     "output_type": "execute_result"
    }
   ],
   "source": [
    "sst1_porosities"
   ]
  },
  {
   "cell_type": "code",
   "execution_count": 61,
   "id": "5a7a3b75",
   "metadata": {},
   "outputs": [],
   "source": [
    "sst1_permeabilites.append(135)"
   ]
  },
  {
   "cell_type": "code",
   "execution_count": 62,
   "id": "bc8df38c",
   "metadata": {},
   "outputs": [
    {
     "data": {
      "text/plain": [
       "[110, 105, 170, 230, 135]"
      ]
     },
     "execution_count": 62,
     "metadata": {},
     "output_type": "execute_result"
    }
   ],
   "source": [
    "sst1_permeabilites"
   ]
  },
  {
   "cell_type": "code",
   "execution_count": 63,
   "id": "218b8c33",
   "metadata": {},
   "outputs": [
    {
     "data": {
      "text/plain": [
       "True"
      ]
     },
     "execution_count": 63,
     "metadata": {},
     "output_type": "execute_result"
    }
   ],
   "source": [
    "len(sst1_porosities) == len(sst1_permeabilites)"
   ]
  },
  {
   "cell_type": "markdown",
   "id": "0177972a",
   "metadata": {},
   "source": [
    "> ## 2. pop : drop from the end\n",
    "\n",
    "My manager says that - that sample was garbage pls drop them off. "
   ]
  },
  {
   "cell_type": "code",
   "execution_count": 64,
   "id": "dca06e15",
   "metadata": {},
   "outputs": [
    {
     "data": {
      "text/plain": [
       "[0.23, 0.22, 0.25, 0.29, 0.26]"
      ]
     },
     "execution_count": 64,
     "metadata": {},
     "output_type": "execute_result"
    }
   ],
   "source": [
    "sst1_porosities"
   ]
  },
  {
   "cell_type": "code",
   "execution_count": 65,
   "id": "22f9c762",
   "metadata": {},
   "outputs": [
    {
     "data": {
      "text/plain": [
       "0.26"
      ]
     },
     "execution_count": 65,
     "metadata": {},
     "output_type": "execute_result"
    }
   ],
   "source": [
    "sst1_porosities.pop()"
   ]
  },
  {
   "cell_type": "code",
   "execution_count": 66,
   "id": "bfe025a0",
   "metadata": {},
   "outputs": [
    {
     "data": {
      "text/plain": [
       "[0.23, 0.22, 0.25, 0.29]"
      ]
     },
     "execution_count": 66,
     "metadata": {},
     "output_type": "execute_result"
    }
   ],
   "source": [
    "sst1_porosities"
   ]
  },
  {
   "cell_type": "code",
   "execution_count": 67,
   "id": "dd16b292",
   "metadata": {},
   "outputs": [
    {
     "data": {
      "text/plain": [
       "135"
      ]
     },
     "execution_count": 67,
     "metadata": {},
     "output_type": "execute_result"
    }
   ],
   "source": [
    "sst1_permeabilites.pop()"
   ]
  },
  {
   "cell_type": "code",
   "execution_count": 68,
   "id": "2f915a21",
   "metadata": {},
   "outputs": [
    {
     "data": {
      "text/plain": [
       "[110, 105, 170, 230]"
      ]
     },
     "execution_count": 68,
     "metadata": {},
     "output_type": "execute_result"
    }
   ],
   "source": [
    "sst1_permeabilites"
   ]
  },
  {
   "cell_type": "code",
   "execution_count": 69,
   "id": "e4d582f8",
   "metadata": {},
   "outputs": [],
   "source": [
    "# len(X) --Func\n",
    "# X.method() -- method"
   ]
  },
  {
   "cell_type": "code",
   "execution_count": 74,
   "id": "590218d2",
   "metadata": {},
   "outputs": [
    {
     "data": {
      "text/plain": [
       "[0.23, 0.22, 0.25, 0.29, 0.27]"
      ]
     },
     "execution_count": 74,
     "metadata": {},
     "output_type": "execute_result"
    }
   ],
   "source": [
    "sst1_porosities + [0.27]"
   ]
  },
  {
   "cell_type": "code",
   "execution_count": 75,
   "id": "13d0c003",
   "metadata": {},
   "outputs": [
    {
     "data": {
      "text/plain": [
       "[110, 105, 170, 230, 145]"
      ]
     },
     "execution_count": 75,
     "metadata": {},
     "output_type": "execute_result"
    }
   ],
   "source": [
    "sst1_permeabilites + [145]"
   ]
  },
  {
   "cell_type": "markdown",
   "id": "53c16c42",
   "metadata": {},
   "source": [
    "> HW : look at other methods of list"
   ]
  },
  {
   "cell_type": "code",
   "execution_count": 76,
   "id": "56d6ae4c",
   "metadata": {},
   "outputs": [],
   "source": [
    "sst1_porosities.remove(0.29)"
   ]
  },
  {
   "cell_type": "code",
   "execution_count": 77,
   "id": "61612179",
   "metadata": {},
   "outputs": [
    {
     "data": {
      "text/plain": [
       "[0.23, 0.22, 0.25]"
      ]
     },
     "execution_count": 77,
     "metadata": {},
     "output_type": "execute_result"
    }
   ],
   "source": [
    "sst1_porosities"
   ]
  },
  {
   "cell_type": "code",
   "execution_count": 78,
   "id": "f3c1ff2a",
   "metadata": {},
   "outputs": [
    {
     "name": "stdout",
     "output_type": "stream",
     "text": [
      "Help on built-in function pop:\n",
      "\n",
      "pop(index=-1, /) method of builtins.list instance\n",
      "    Remove and return item at index (default last).\n",
      "    \n",
      "    Raises IndexError if list is empty or index is out of range.\n",
      "\n"
     ]
    }
   ],
   "source": [
    "help(sst1_porosities.pop)"
   ]
  },
  {
   "cell_type": "code",
   "execution_count": 79,
   "id": "cfd4e660",
   "metadata": {},
   "outputs": [
    {
     "name": "stdout",
     "output_type": "stream",
     "text": [
      "Help on class range in module builtins:\n",
      "\n",
      "class range(object)\n",
      " |  range(stop) -> range object\n",
      " |  range(start, stop[, step]) -> range object\n",
      " |  \n",
      " |  Return an object that produces a sequence of integers from start (inclusive)\n",
      " |  to stop (exclusive) by step.  range(i, j) produces i, i+1, i+2, ..., j-1.\n",
      " |  start defaults to 0, and stop is omitted!  range(4) produces 0, 1, 2, 3.\n",
      " |  These are exactly the valid indices for a list of 4 elements.\n",
      " |  When step is given, it specifies the increment (or decrement).\n",
      " |  \n",
      " |  Methods defined here:\n",
      " |  \n",
      " |  __bool__(self, /)\n",
      " |      self != 0\n",
      " |  \n",
      " |  __contains__(self, key, /)\n",
      " |      Return key in self.\n",
      " |  \n",
      " |  __eq__(self, value, /)\n",
      " |      Return self==value.\n",
      " |  \n",
      " |  __ge__(self, value, /)\n",
      " |      Return self>=value.\n",
      " |  \n",
      " |  __getattribute__(self, name, /)\n",
      " |      Return getattr(self, name).\n",
      " |  \n",
      " |  __getitem__(self, key, /)\n",
      " |      Return self[key].\n",
      " |  \n",
      " |  __gt__(self, value, /)\n",
      " |      Return self>value.\n",
      " |  \n",
      " |  __hash__(self, /)\n",
      " |      Return hash(self).\n",
      " |  \n",
      " |  __iter__(self, /)\n",
      " |      Implement iter(self).\n",
      " |  \n",
      " |  __le__(self, value, /)\n",
      " |      Return self<=value.\n",
      " |  \n",
      " |  __len__(self, /)\n",
      " |      Return len(self).\n",
      " |  \n",
      " |  __lt__(self, value, /)\n",
      " |      Return self<value.\n",
      " |  \n",
      " |  __ne__(self, value, /)\n",
      " |      Return self!=value.\n",
      " |  \n",
      " |  __reduce__(...)\n",
      " |      Helper for pickle.\n",
      " |  \n",
      " |  __repr__(self, /)\n",
      " |      Return repr(self).\n",
      " |  \n",
      " |  __reversed__(...)\n",
      " |      Return a reverse iterator.\n",
      " |  \n",
      " |  count(...)\n",
      " |      rangeobject.count(value) -> integer -- return number of occurrences of value\n",
      " |  \n",
      " |  index(...)\n",
      " |      rangeobject.index(value) -> integer -- return index of value.\n",
      " |      Raise ValueError if the value is not present.\n",
      " |  \n",
      " |  ----------------------------------------------------------------------\n",
      " |  Static methods defined here:\n",
      " |  \n",
      " |  __new__(*args, **kwargs) from builtins.type\n",
      " |      Create and return a new object.  See help(type) for accurate signature.\n",
      " |  \n",
      " |  ----------------------------------------------------------------------\n",
      " |  Data descriptors defined here:\n",
      " |  \n",
      " |  start\n",
      " |  \n",
      " |  step\n",
      " |  \n",
      " |  stop\n",
      "\n"
     ]
    }
   ],
   "source": [
    "help(range)"
   ]
  },
  {
   "cell_type": "markdown",
   "id": "c911d238",
   "metadata": {},
   "source": [
    "**list : is MUTABLE : it is modifyable**"
   ]
  },
  {
   "cell_type": "code",
   "execution_count": 81,
   "id": "45f969cc",
   "metadata": {},
   "outputs": [],
   "source": [
    "sst1_porosities.append(27)"
   ]
  },
  {
   "cell_type": "code",
   "execution_count": 84,
   "id": "743f68a2",
   "metadata": {},
   "outputs": [],
   "source": [
    "sst1_porosities[-1] = 0.27"
   ]
  },
  {
   "cell_type": "code",
   "execution_count": 85,
   "id": "065c6d79",
   "metadata": {},
   "outputs": [
    {
     "data": {
      "text/plain": [
       "[0.23, 0.22, 0.25, 0.27]"
      ]
     },
     "execution_count": 85,
     "metadata": {},
     "output_type": "execute_result"
    }
   ],
   "source": [
    "sst1_porosities"
   ]
  },
  {
   "cell_type": "markdown",
   "id": "66729883",
   "metadata": {},
   "source": [
    "**A string is IMMUTABLE (just an example)**"
   ]
  },
  {
   "cell_type": "code",
   "execution_count": 91,
   "id": "58a76e4a",
   "metadata": {},
   "outputs": [
    {
     "ename": "TypeError",
     "evalue": "'str' object does not support item assignment",
     "output_type": "error",
     "traceback": [
      "\u001b[1;31m---------------------------------------------------------------------------\u001b[0m",
      "\u001b[1;31mTypeError\u001b[0m                                 Traceback (most recent call last)",
      "\u001b[1;32m~\\AppData\\Local\\Temp/ipykernel_18844/2618814967.py\u001b[0m in \u001b[0;36m<module>\u001b[1;34m\u001b[0m\n\u001b[0;32m      1\u001b[0m \u001b[0mname\u001b[0m \u001b[1;33m=\u001b[0m \u001b[1;34m'Divyanshi'\u001b[0m\u001b[1;33m\u001b[0m\u001b[1;33m\u001b[0m\u001b[0m\n\u001b[0;32m      2\u001b[0m \u001b[1;33m\u001b[0m\u001b[0m\n\u001b[1;32m----> 3\u001b[1;33m \u001b[0mname\u001b[0m\u001b[1;33m[\u001b[0m\u001b[1;33m-\u001b[0m\u001b[1;36m1\u001b[0m\u001b[1;33m]\u001b[0m \u001b[1;33m=\u001b[0m \u001b[1;36m100\u001b[0m\u001b[1;33m\u001b[0m\u001b[1;33m\u001b[0m\u001b[0m\n\u001b[0m",
      "\u001b[1;31mTypeError\u001b[0m: 'str' object does not support item assignment"
     ]
    }
   ],
   "source": [
    "name = 'Divyanshi'\n",
    "\n",
    "name[-1] = 100"
   ]
  },
  {
   "cell_type": "code",
   "execution_count": null,
   "id": "50883645",
   "metadata": {},
   "outputs": [],
   "source": []
  }
 ],
 "metadata": {
  "kernelspec": {
   "display_name": "Python 3 (ipykernel)",
   "language": "python",
   "name": "python3"
  },
  "language_info": {
   "codemirror_mode": {
    "name": "ipython",
    "version": 3
   },
   "file_extension": ".py",
   "mimetype": "text/x-python",
   "name": "python",
   "nbconvert_exporter": "python",
   "pygments_lexer": "ipython3",
   "version": "3.9.7"
  }
 },
 "nbformat": 4,
 "nbformat_minor": 5
}
